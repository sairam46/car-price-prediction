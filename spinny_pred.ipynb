{
 "cells": [
  {
   "cell_type": "code",
   "execution_count": 1,
   "id": "ff74723c",
   "metadata": {},
   "outputs": [],
   "source": [
    "#spinnyyyy all cities car details\n",
    "import pandas as pd \n",
    "import json\n",
    "li=[]\n",
    "for i in range(1,15):\n",
    "    d= 'https://api.spinny.com/sp-consumer-search/product/listing/?city=hyderabad&product_type=cars&category=used&page={}'.format(i)\n",
    "    li.append(d)\n",
    "for i in range(1,35):\n",
    "    d= 'https://api.spinny.com/sp-consumer-search/product/listing/?city=bangalore&product_type=cars&category=used&page={}'.format(i)\n",
    "    li.append(d)\n",
    "for i in range(1,15):\n",
    "    d= 'https://api.spinny.com/sp-consumer-search/product/listing/?city=mumbai&product_type=cars&category=used&page={}'.format(i)\n",
    "    li.append(d)\n",
    "for i in range(1,25):\n",
    "    d= 'https://api.spinny.com/sp-consumer-search/product/listing/?city=delhi-ncr&product_type=cars&category=used&page={}'.format(i)\n",
    "    li.append(d)\n",
    "append_data=[]\n",
    "for i in li:\n",
    "    data = pd.read_json(i)\n",
    "    f=pd.json_normalize(data.results)\n",
    "    f.drop('permanent_url',inplace=True, axis=1)\n",
    "    f.drop('on_hold', inplace=True, axis=1)\n",
    "    f.drop('expected_live_date', inplace=True, axis=1)\n",
    "    f.drop('hold_end_time', inplace=True, axis=1)\n",
    "    append_data.append(f)\n",
    "append_data = pd.concat(append_data)  \n",
    "append_data.to_excel('data_pred.xlsx')"
   ]
  },
  {
   "cell_type": "code",
   "execution_count": 117,
   "id": "229dfab6",
   "metadata": {},
   "outputs": [],
   "source": [
    "import matplotlib.pyplot as plt \n",
    "import seaborn as sns"
   ]
  },
  {
   "cell_type": "code",
   "execution_count": 49,
   "id": "7167b7b0",
   "metadata": {},
   "outputs": [
    {
     "data": {
      "text/html": [
       "<div>\n",
       "<style scoped>\n",
       "    .dataframe tbody tr th:only-of-type {\n",
       "        vertical-align: middle;\n",
       "    }\n",
       "\n",
       "    .dataframe tbody tr th {\n",
       "        vertical-align: top;\n",
       "    }\n",
       "\n",
       "    .dataframe thead th {\n",
       "        text-align: right;\n",
       "    }\n",
       "</style>\n",
       "<table border=\"1\" class=\"dataframe\">\n",
       "  <thead>\n",
       "    <tr style=\"text-align: right;\">\n",
       "      <th></th>\n",
       "      <th>make</th>\n",
       "      <th>model</th>\n",
       "      <th>variant</th>\n",
       "      <th>body_type</th>\n",
       "      <th>mileage</th>\n",
       "      <th>fuel_type</th>\n",
       "      <th>transmission</th>\n",
       "      <th>year</th>\n",
       "      <th>city</th>\n",
       "      <th>price</th>\n",
       "      <th>images</th>\n",
       "      <th>it</th>\n",
       "    </tr>\n",
       "  </thead>\n",
       "  <tbody>\n",
       "    <tr>\n",
       "      <th>10226</th>\n",
       "      <td>Volvo</td>\n",
       "      <td>Country</td>\n",
       "      <td>D3 Inscription</td>\n",
       "      <td>Hatchback</td>\n",
       "      <td>100000</td>\n",
       "      <td>Diesel</td>\n",
       "      <td>Automatic</td>\n",
       "      <td>2016</td>\n",
       "      <td>New Delhi</td>\n",
       "      <td>1375000</td>\n",
       "      <td>[{'img': 'https://stimg2.cardekho.com/images/u...</td>\n",
       "      <td>0</td>\n",
       "    </tr>\n",
       "    <tr>\n",
       "      <th>10227</th>\n",
       "      <td>Volvo</td>\n",
       "      <td>XC40</td>\n",
       "      <td>T4 R-Design</td>\n",
       "      <td>SUV</td>\n",
       "      <td>20000</td>\n",
       "      <td>Petrol</td>\n",
       "      <td>Automatic</td>\n",
       "      <td>2021</td>\n",
       "      <td>Gurgaon</td>\n",
       "      <td>3600000</td>\n",
       "      <td>[{'img': 'https://images10.gaadicdn.com/usedca...</td>\n",
       "      <td>0</td>\n",
       "    </tr>\n",
       "    <tr>\n",
       "      <th>10228</th>\n",
       "      <td>Volvo</td>\n",
       "      <td>S60</td>\n",
       "      <td>T6 Summum</td>\n",
       "      <td>Sedan</td>\n",
       "      <td>78000</td>\n",
       "      <td>Petrol</td>\n",
       "      <td>Automatic</td>\n",
       "      <td>2011</td>\n",
       "      <td>Hyderabad</td>\n",
       "      <td>1275000</td>\n",
       "      <td>[{'img': 'https://images10.gaadicdn.com/usedca...</td>\n",
       "      <td>0</td>\n",
       "    </tr>\n",
       "    <tr>\n",
       "      <th>10229</th>\n",
       "      <td>Volvo</td>\n",
       "      <td>XC40</td>\n",
       "      <td>T4 R-Design</td>\n",
       "      <td>SUV</td>\n",
       "      <td>11000</td>\n",
       "      <td>Petrol</td>\n",
       "      <td>Automatic</td>\n",
       "      <td>2020</td>\n",
       "      <td>Mumbai</td>\n",
       "      <td>3850000</td>\n",
       "      <td>[{'img': 'https://images10.gaadicdn.com/usedca...</td>\n",
       "      <td>0</td>\n",
       "    </tr>\n",
       "    <tr>\n",
       "      <th>10230</th>\n",
       "      <td>Volvo</td>\n",
       "      <td>S60</td>\n",
       "      <td>T4 Inscription</td>\n",
       "      <td>Sedan</td>\n",
       "      <td>12000</td>\n",
       "      <td>Petrol</td>\n",
       "      <td>Automatic</td>\n",
       "      <td>2021</td>\n",
       "      <td>New Delhi</td>\n",
       "      <td>4700000</td>\n",
       "      <td>[{'img': 'https://images10.gaadicdn.com/usedca...</td>\n",
       "      <td>0</td>\n",
       "    </tr>\n",
       "  </tbody>\n",
       "</table>\n",
       "</div>"
      ],
      "text/plain": [
       "        make    model         variant  body_type  mileage fuel_type  \\\n",
       "10226  Volvo  Country  D3 Inscription  Hatchback   100000    Diesel   \n",
       "10227  Volvo     XC40     T4 R-Design        SUV    20000    Petrol   \n",
       "10228  Volvo      S60       T6 Summum      Sedan    78000    Petrol   \n",
       "10229  Volvo     XC40     T4 R-Design        SUV    11000    Petrol   \n",
       "10230  Volvo      S60  T4 Inscription      Sedan    12000    Petrol   \n",
       "\n",
       "      transmission  year       city    price  \\\n",
       "10226    Automatic  2016  New Delhi  1375000   \n",
       "10227    Automatic  2021    Gurgaon  3600000   \n",
       "10228    Automatic  2011  Hyderabad  1275000   \n",
       "10229    Automatic  2020     Mumbai  3850000   \n",
       "10230    Automatic  2021  New Delhi  4700000   \n",
       "\n",
       "                                                  images  it  \n",
       "10226  [{'img': 'https://stimg2.cardekho.com/images/u...   0  \n",
       "10227  [{'img': 'https://images10.gaadicdn.com/usedca...   0  \n",
       "10228  [{'img': 'https://images10.gaadicdn.com/usedca...   0  \n",
       "10229  [{'img': 'https://images10.gaadicdn.com/usedca...   0  \n",
       "10230  [{'img': 'https://images10.gaadicdn.com/usedca...   0  "
      ]
     },
     "execution_count": 49,
     "metadata": {},
     "output_type": "execute_result"
    }
   ],
   "source": [
    "data  = pd.read_excel('final_data.xlsx')\n",
    "data.tail()"
   ]
  },
  {
   "cell_type": "code",
   "execution_count": 50,
   "id": "464baac3",
   "metadata": {},
   "outputs": [
    {
     "name": "stdout",
     "output_type": "stream",
     "text": [
      "<class 'pandas.core.frame.DataFrame'>\n",
      "RangeIndex: 10231 entries, 0 to 10230\n",
      "Data columns (total 12 columns):\n",
      " #   Column        Non-Null Count  Dtype \n",
      "---  ------        --------------  ----- \n",
      " 0   make          10231 non-null  object\n",
      " 1   model         10231 non-null  object\n",
      " 2   variant       10231 non-null  object\n",
      " 3   body_type     10230 non-null  object\n",
      " 4   mileage       10231 non-null  int64 \n",
      " 5   fuel_type     10231 non-null  object\n",
      " 6   transmission  10231 non-null  object\n",
      " 7   year          10231 non-null  int64 \n",
      " 8   city          10231 non-null  object\n",
      " 9   price         10231 non-null  int64 \n",
      " 10  images        10231 non-null  object\n",
      " 11  it            10231 non-null  int64 \n",
      "dtypes: int64(4), object(8)\n",
      "memory usage: 959.3+ KB\n"
     ]
    }
   ],
   "source": [
    "data.info()"
   ]
  },
  {
   "cell_type": "code",
   "execution_count": 51,
   "id": "a03c7e3b",
   "metadata": {},
   "outputs": [
    {
     "data": {
      "text/plain": [
       "Hatchback          2944\n",
       "Sedan              2544\n",
       "SUV                2481\n",
       "hatchback           870\n",
       "MUV                 465\n",
       "suv                 409\n",
       "sedan               377\n",
       "muv                  43\n",
       "crossover            21\n",
       "Convertibles         19\n",
       "Minivans             18\n",
       "Luxury Vehicles      15\n",
       "Coupe                14\n",
       "Pickup Trucks         7\n",
       "Wagon                 3\n",
       "Name: body_type, dtype: int64"
      ]
     },
     "execution_count": 51,
     "metadata": {},
     "output_type": "execute_result"
    }
   ],
   "source": [
    "data.body_type.value_counts()"
   ]
  },
  {
   "cell_type": "code",
   "execution_count": 52,
   "id": "fd968505",
   "metadata": {},
   "outputs": [
    {
     "data": {
      "text/plain": [
       "0            coupe\n",
       "1              suv\n",
       "2              suv\n",
       "3              suv\n",
       "4              suv\n",
       "           ...    \n",
       "10226    hatchback\n",
       "10227          suv\n",
       "10228        sedan\n",
       "10229          suv\n",
       "10230        sedan\n",
       "Name: body_type, Length: 10231, dtype: object"
      ]
     },
     "execution_count": 52,
     "metadata": {},
     "output_type": "execute_result"
    }
   ],
   "source": [
    "data['body_type'].str.lower()"
   ]
  },
  {
   "cell_type": "code",
   "execution_count": 53,
   "id": "85b02847",
   "metadata": {},
   "outputs": [],
   "source": [
    "data['body_type']=data['body_type'].str.lower()"
   ]
  },
  {
   "cell_type": "code",
   "execution_count": 54,
   "id": "d4e4a826",
   "metadata": {},
   "outputs": [
    {
     "data": {
      "text/plain": [
       "hatchback          3814\n",
       "sedan              2921\n",
       "suv                2890\n",
       "muv                 508\n",
       "crossover            21\n",
       "convertibles         19\n",
       "minivans             18\n",
       "luxury vehicles      15\n",
       "coupe                14\n",
       "pickup trucks         7\n",
       "wagon                 3\n",
       "Name: body_type, dtype: int64"
      ]
     },
     "execution_count": 54,
     "metadata": {},
     "output_type": "execute_result"
    }
   ],
   "source": [
    "data.body_type.value_counts()"
   ]
  },
  {
   "cell_type": "code",
   "execution_count": 55,
   "id": "44278a52",
   "metadata": {},
   "outputs": [],
   "source": [
    "data['fuel_type']=data['fuel_type'].str.lower()"
   ]
  },
  {
   "cell_type": "code",
   "execution_count": 56,
   "id": "f043a03d",
   "metadata": {},
   "outputs": [
    {
     "data": {
      "text/plain": [
       "petrol      6220\n",
       "diesel      3754\n",
       "cng          220\n",
       "electric      29\n",
       "lpg            8\n",
       "Name: fuel_type, dtype: int64"
      ]
     },
     "execution_count": 56,
     "metadata": {},
     "output_type": "execute_result"
    }
   ],
   "source": [
    "data.fuel_type.value_counts()"
   ]
  },
  {
   "cell_type": "code",
   "execution_count": 57,
   "id": "25acf190",
   "metadata": {},
   "outputs": [
    {
     "data": {
      "text/plain": [
       "make            0\n",
       "model           0\n",
       "variant         0\n",
       "body_type       1\n",
       "mileage         0\n",
       "fuel_type       0\n",
       "transmission    0\n",
       "year            0\n",
       "city            0\n",
       "price           0\n",
       "images          0\n",
       "it              0\n",
       "dtype: int64"
      ]
     },
     "execution_count": 57,
     "metadata": {},
     "output_type": "execute_result"
    }
   ],
   "source": [
    "data.isnull().sum()"
   ]
  },
  {
   "cell_type": "code",
   "execution_count": 61,
   "id": "3fe7a34e",
   "metadata": {},
   "outputs": [
    {
     "data": {
      "text/plain": [
       "<AxesSubplot:>"
      ]
     },
     "execution_count": 61,
     "metadata": {},
     "output_type": "execute_result"
    },
    {
     "data": {
      "image/png": "[encoded data removed]",
      "text/plain": [
       "<Figure size 640x480 with 1 Axes>"
      ]
     },
     "metadata": {},
     "output_type": "display_data"
    }
   ],
   "source": [
    "data.make.value_counts()"
   ]
  },
  {
   "cell_type": "code",
   "execution_count": 59,
   "id": "628d520b",
   "metadata": {},
   "outputs": [],
   "source": [
    "data['make'] = data['make'].replace(regex=['Maruti Suzuki'], value='Maruti')"
   ]
  },
  {
   "cell_type": "code",
   "execution_count": 136,
   "id": "e0e8f0be",
   "metadata": {},
   "outputs": [
    {
     "data": {
      "text/html": [
       "<div>\n",
       "<style scoped>\n",
       "    .dataframe tbody tr th:only-of-type {\n",
       "        vertical-align: middle;\n",
       "    }\n",
       "\n",
       "    .dataframe tbody tr th {\n",
       "        vertical-align: top;\n",
       "    }\n",
       "\n",
       "    .dataframe thead th {\n",
       "        text-align: right;\n",
       "    }\n",
       "</style>\n",
       "<table border=\"1\" class=\"dataframe\">\n",
       "  <thead>\n",
       "    <tr style=\"text-align: right;\">\n",
       "      <th></th>\n",
       "      <th>make</th>\n",
       "      <th>model</th>\n",
       "      <th>variant</th>\n",
       "      <th>body_type</th>\n",
       "      <th>mileage</th>\n",
       "      <th>fuel_type</th>\n",
       "      <th>transmission</th>\n",
       "      <th>year</th>\n",
       "      <th>city</th>\n",
       "      <th>price</th>\n",
       "    </tr>\n",
       "  </thead>\n",
       "  <tbody>\n",
       "    <tr>\n",
       "      <th>8264</th>\n",
       "      <td>Porsche</td>\n",
       "      <td>Cayenne</td>\n",
       "      <td>Diesel</td>\n",
       "      <td>suv</td>\n",
       "      <td>90000</td>\n",
       "      <td>diesel</td>\n",
       "      <td>automatic</td>\n",
       "      <td>2015</td>\n",
       "      <td>Gurgaon</td>\n",
       "      <td>4400000</td>\n",
       "    </tr>\n",
       "    <tr>\n",
       "      <th>8265</th>\n",
       "      <td>Porsche</td>\n",
       "      <td>Cayenne</td>\n",
       "      <td>Diesel Platinum Edition</td>\n",
       "      <td>suv</td>\n",
       "      <td>65000</td>\n",
       "      <td>diesel</td>\n",
       "      <td>automatic</td>\n",
       "      <td>2017</td>\n",
       "      <td>Gurgaon</td>\n",
       "      <td>6625000</td>\n",
       "    </tr>\n",
       "    <tr>\n",
       "      <th>8266</th>\n",
       "      <td>Porsche</td>\n",
       "      <td>Cayenne</td>\n",
       "      <td>Diesel</td>\n",
       "      <td>suv</td>\n",
       "      <td>90000</td>\n",
       "      <td>diesel</td>\n",
       "      <td>automatic</td>\n",
       "      <td>2015</td>\n",
       "      <td>Gurgaon</td>\n",
       "      <td>4400000</td>\n",
       "    </tr>\n",
       "    <tr>\n",
       "      <th>8267</th>\n",
       "      <td>Porsche</td>\n",
       "      <td>Cayenne</td>\n",
       "      <td>Diesel Platinum Edition</td>\n",
       "      <td>suv</td>\n",
       "      <td>65000</td>\n",
       "      <td>diesel</td>\n",
       "      <td>automatic</td>\n",
       "      <td>2017</td>\n",
       "      <td>Gurgaon</td>\n",
       "      <td>6625000</td>\n",
       "    </tr>\n",
       "    <tr>\n",
       "      <th>8268</th>\n",
       "      <td>Porsche</td>\n",
       "      <td>Cayenne</td>\n",
       "      <td>Diesel</td>\n",
       "      <td>suv</td>\n",
       "      <td>90000</td>\n",
       "      <td>diesel</td>\n",
       "      <td>automatic</td>\n",
       "      <td>2015</td>\n",
       "      <td>Gurgaon</td>\n",
       "      <td>4400000</td>\n",
       "    </tr>\n",
       "    <tr>\n",
       "      <th>8269</th>\n",
       "      <td>Porsche</td>\n",
       "      <td>Cayenne</td>\n",
       "      <td>Diesel Platinum Edition</td>\n",
       "      <td>suv</td>\n",
       "      <td>65000</td>\n",
       "      <td>diesel</td>\n",
       "      <td>automatic</td>\n",
       "      <td>2017</td>\n",
       "      <td>Gurgaon</td>\n",
       "      <td>6625000</td>\n",
       "    </tr>\n",
       "    <tr>\n",
       "      <th>8270</th>\n",
       "      <td>Porsche</td>\n",
       "      <td>Cayenne</td>\n",
       "      <td>Diesel</td>\n",
       "      <td>suv</td>\n",
       "      <td>90000</td>\n",
       "      <td>diesel</td>\n",
       "      <td>automatic</td>\n",
       "      <td>2015</td>\n",
       "      <td>Gurgaon</td>\n",
       "      <td>4400000</td>\n",
       "    </tr>\n",
       "    <tr>\n",
       "      <th>8271</th>\n",
       "      <td>Porsche</td>\n",
       "      <td>Cayenne</td>\n",
       "      <td>Diesel Platinum Edition</td>\n",
       "      <td>suv</td>\n",
       "      <td>65000</td>\n",
       "      <td>diesel</td>\n",
       "      <td>automatic</td>\n",
       "      <td>2017</td>\n",
       "      <td>Gurgaon</td>\n",
       "      <td>6625000</td>\n",
       "    </tr>\n",
       "    <tr>\n",
       "      <th>8272</th>\n",
       "      <td>Porsche</td>\n",
       "      <td>Cayenne</td>\n",
       "      <td>Diesel Platinum Edition</td>\n",
       "      <td>suv</td>\n",
       "      <td>49000</td>\n",
       "      <td>diesel</td>\n",
       "      <td>automatic</td>\n",
       "      <td>2016</td>\n",
       "      <td>Gurgaon</td>\n",
       "      <td>6450000</td>\n",
       "    </tr>\n",
       "    <tr>\n",
       "      <th>8273</th>\n",
       "      <td>Porsche</td>\n",
       "      <td>Cayenne</td>\n",
       "      <td>Diesel</td>\n",
       "      <td>suv</td>\n",
       "      <td>121000</td>\n",
       "      <td>diesel</td>\n",
       "      <td>automatic</td>\n",
       "      <td>2011</td>\n",
       "      <td>Mumbai</td>\n",
       "      <td>2430000</td>\n",
       "    </tr>\n",
       "    <tr>\n",
       "      <th>8274</th>\n",
       "      <td>Porsche</td>\n",
       "      <td>Cayenne</td>\n",
       "      <td>Diesel</td>\n",
       "      <td>suv</td>\n",
       "      <td>76000</td>\n",
       "      <td>diesel</td>\n",
       "      <td>automatic</td>\n",
       "      <td>2013</td>\n",
       "      <td>Delhi</td>\n",
       "      <td>2849000</td>\n",
       "    </tr>\n",
       "    <tr>\n",
       "      <th>8275</th>\n",
       "      <td>Porsche</td>\n",
       "      <td>Cayenne</td>\n",
       "      <td>Diesel</td>\n",
       "      <td>suv</td>\n",
       "      <td>76000</td>\n",
       "      <td>diesel</td>\n",
       "      <td>automatic</td>\n",
       "      <td>2013</td>\n",
       "      <td>Delhi</td>\n",
       "      <td>2849000</td>\n",
       "    </tr>\n",
       "    <tr>\n",
       "      <th>8276</th>\n",
       "      <td>Porsche</td>\n",
       "      <td>Cayenne</td>\n",
       "      <td>Diesel Platinum Edition</td>\n",
       "      <td>suv</td>\n",
       "      <td>62000</td>\n",
       "      <td>diesel</td>\n",
       "      <td>automatic</td>\n",
       "      <td>2017</td>\n",
       "      <td>Delhi</td>\n",
       "      <td>6625000</td>\n",
       "    </tr>\n",
       "    <tr>\n",
       "      <th>8277</th>\n",
       "      <td>Porsche</td>\n",
       "      <td>Cayenne</td>\n",
       "      <td>Diesel</td>\n",
       "      <td>suv</td>\n",
       "      <td>99000</td>\n",
       "      <td>diesel</td>\n",
       "      <td>automatic</td>\n",
       "      <td>2013</td>\n",
       "      <td>Delhi</td>\n",
       "      <td>2990000</td>\n",
       "    </tr>\n",
       "    <tr>\n",
       "      <th>8278</th>\n",
       "      <td>Porsche</td>\n",
       "      <td>Panamera</td>\n",
       "      <td>Diesel</td>\n",
       "      <td>sedan</td>\n",
       "      <td>9800</td>\n",
       "      <td>diesel</td>\n",
       "      <td>automatic</td>\n",
       "      <td>2013</td>\n",
       "      <td>Delhi</td>\n",
       "      <td>4200000</td>\n",
       "    </tr>\n",
       "    <tr>\n",
       "      <th>8279</th>\n",
       "      <td>Porsche</td>\n",
       "      <td>Cayenne</td>\n",
       "      <td>Diesel</td>\n",
       "      <td>suv</td>\n",
       "      <td>80500</td>\n",
       "      <td>diesel</td>\n",
       "      <td>automatic</td>\n",
       "      <td>2013</td>\n",
       "      <td>Delhi</td>\n",
       "      <td>2825000</td>\n",
       "    </tr>\n",
       "    <tr>\n",
       "      <th>8280</th>\n",
       "      <td>Porsche</td>\n",
       "      <td>Cayenne</td>\n",
       "      <td>Diesel Platinum Edition</td>\n",
       "      <td>suv</td>\n",
       "      <td>49999</td>\n",
       "      <td>diesel</td>\n",
       "      <td>automatic</td>\n",
       "      <td>2016</td>\n",
       "      <td>Delhi</td>\n",
       "      <td>5999999</td>\n",
       "    </tr>\n",
       "    <tr>\n",
       "      <th>8281</th>\n",
       "      <td>Porsche</td>\n",
       "      <td>Panamera</td>\n",
       "      <td>Diesel 250hp</td>\n",
       "      <td>sedan</td>\n",
       "      <td>50000</td>\n",
       "      <td>diesel</td>\n",
       "      <td>automatic</td>\n",
       "      <td>2013</td>\n",
       "      <td>Delhi</td>\n",
       "      <td>3850001</td>\n",
       "    </tr>\n",
       "    <tr>\n",
       "      <th>8282</th>\n",
       "      <td>Porsche</td>\n",
       "      <td>Cayenne</td>\n",
       "      <td>Diesel</td>\n",
       "      <td>suv</td>\n",
       "      <td>90000</td>\n",
       "      <td>diesel</td>\n",
       "      <td>automatic</td>\n",
       "      <td>2015</td>\n",
       "      <td>Delhi</td>\n",
       "      <td>4500000</td>\n",
       "    </tr>\n",
       "    <tr>\n",
       "      <th>8283</th>\n",
       "      <td>Porsche</td>\n",
       "      <td>Cayenne</td>\n",
       "      <td>Diesel</td>\n",
       "      <td>suv</td>\n",
       "      <td>48000</td>\n",
       "      <td>diesel</td>\n",
       "      <td>automatic</td>\n",
       "      <td>2015</td>\n",
       "      <td>Delhi</td>\n",
       "      <td>3900001</td>\n",
       "    </tr>\n",
       "    <tr>\n",
       "      <th>8284</th>\n",
       "      <td>Porsche</td>\n",
       "      <td>Cayenne</td>\n",
       "      <td>Diesel Platinum Edition</td>\n",
       "      <td>suv</td>\n",
       "      <td>35000</td>\n",
       "      <td>diesel</td>\n",
       "      <td>automatic</td>\n",
       "      <td>2018</td>\n",
       "      <td>Delhi</td>\n",
       "      <td>8300000</td>\n",
       "    </tr>\n",
       "    <tr>\n",
       "      <th>8285</th>\n",
       "      <td>Porsche</td>\n",
       "      <td>718</td>\n",
       "      <td>Boxster</td>\n",
       "      <td>convertibles</td>\n",
       "      <td>34000</td>\n",
       "      <td>petrol</td>\n",
       "      <td>automatic</td>\n",
       "      <td>2017</td>\n",
       "      <td>Mumbai</td>\n",
       "      <td>8700000</td>\n",
       "    </tr>\n",
       "    <tr>\n",
       "      <th>8286</th>\n",
       "      <td>Porsche</td>\n",
       "      <td>718</td>\n",
       "      <td>Boxster</td>\n",
       "      <td>convertibles</td>\n",
       "      <td>34000</td>\n",
       "      <td>petrol</td>\n",
       "      <td>automatic</td>\n",
       "      <td>2017</td>\n",
       "      <td>Mumbai</td>\n",
       "      <td>8700000</td>\n",
       "    </tr>\n",
       "    <tr>\n",
       "      <th>8287</th>\n",
       "      <td>Porsche</td>\n",
       "      <td>Cayenne</td>\n",
       "      <td>S Hybrid</td>\n",
       "      <td>suv</td>\n",
       "      <td>81000</td>\n",
       "      <td>petrol</td>\n",
       "      <td>automatic</td>\n",
       "      <td>2012</td>\n",
       "      <td>Mumbai</td>\n",
       "      <td>3200000</td>\n",
       "    </tr>\n",
       "    <tr>\n",
       "      <th>8288</th>\n",
       "      <td>Porsche</td>\n",
       "      <td>Macan</td>\n",
       "      <td>Turbo</td>\n",
       "      <td>suv</td>\n",
       "      <td>42000</td>\n",
       "      <td>petrol</td>\n",
       "      <td>automatic</td>\n",
       "      <td>2017</td>\n",
       "      <td>Mumbai</td>\n",
       "      <td>5850000</td>\n",
       "    </tr>\n",
       "    <tr>\n",
       "      <th>8289</th>\n",
       "      <td>Porsche</td>\n",
       "      <td>Cayenne</td>\n",
       "      <td>Tiptronic</td>\n",
       "      <td>suv</td>\n",
       "      <td>112348</td>\n",
       "      <td>petrol</td>\n",
       "      <td>automatic</td>\n",
       "      <td>2011</td>\n",
       "      <td>Delhi</td>\n",
       "      <td>1307890</td>\n",
       "    </tr>\n",
       "    <tr>\n",
       "      <th>8290</th>\n",
       "      <td>Porsche</td>\n",
       "      <td>718</td>\n",
       "      <td>Cayman</td>\n",
       "      <td>coupe</td>\n",
       "      <td>30000</td>\n",
       "      <td>petrol</td>\n",
       "      <td>automatic</td>\n",
       "      <td>2017</td>\n",
       "      <td>Delhi</td>\n",
       "      <td>8800000</td>\n",
       "    </tr>\n",
       "    <tr>\n",
       "      <th>8291</th>\n",
       "      <td>Porsche</td>\n",
       "      <td>Cayenne</td>\n",
       "      <td>3.6 S Platinum Edition</td>\n",
       "      <td>suv</td>\n",
       "      <td>5000</td>\n",
       "      <td>petrol</td>\n",
       "      <td>automatic</td>\n",
       "      <td>2018</td>\n",
       "      <td>Delhi</td>\n",
       "      <td>9400000</td>\n",
       "    </tr>\n",
       "    <tr>\n",
       "      <th>8292</th>\n",
       "      <td>Porsche</td>\n",
       "      <td>Cayenne</td>\n",
       "      <td>3.6 S Platinum Edition</td>\n",
       "      <td>suv</td>\n",
       "      <td>6000</td>\n",
       "      <td>petrol</td>\n",
       "      <td>automatic</td>\n",
       "      <td>2018</td>\n",
       "      <td>Delhi</td>\n",
       "      <td>9475000</td>\n",
       "    </tr>\n",
       "    <tr>\n",
       "      <th>8293</th>\n",
       "      <td>Porsche</td>\n",
       "      <td>718</td>\n",
       "      <td>Boxster</td>\n",
       "      <td>convertibles</td>\n",
       "      <td>23000</td>\n",
       "      <td>petrol</td>\n",
       "      <td>automatic</td>\n",
       "      <td>2017</td>\n",
       "      <td>Delhi</td>\n",
       "      <td>7750000</td>\n",
       "    </tr>\n",
       "    <tr>\n",
       "      <th>8294</th>\n",
       "      <td>Porsche</td>\n",
       "      <td>Macan</td>\n",
       "      <td>R4</td>\n",
       "      <td>suv</td>\n",
       "      <td>45000</td>\n",
       "      <td>petrol</td>\n",
       "      <td>automatic</td>\n",
       "      <td>2017</td>\n",
       "      <td>Delhi</td>\n",
       "      <td>5675000</td>\n",
       "    </tr>\n",
       "    <tr>\n",
       "      <th>8295</th>\n",
       "      <td>Porsche</td>\n",
       "      <td>Boxster</td>\n",
       "      <td>S tiptronic</td>\n",
       "      <td>convertibles</td>\n",
       "      <td>14000</td>\n",
       "      <td>petrol</td>\n",
       "      <td>automatic</td>\n",
       "      <td>2015</td>\n",
       "      <td>Delhi</td>\n",
       "      <td>7250000</td>\n",
       "    </tr>\n",
       "    <tr>\n",
       "      <th>8296</th>\n",
       "      <td>Porsche</td>\n",
       "      <td>718</td>\n",
       "      <td>Boxster</td>\n",
       "      <td>convertibles</td>\n",
       "      <td>5500</td>\n",
       "      <td>petrol</td>\n",
       "      <td>automatic</td>\n",
       "      <td>2017</td>\n",
       "      <td>Delhi</td>\n",
       "      <td>8000000</td>\n",
       "    </tr>\n",
       "  </tbody>\n",
       "</table>\n",
       "</div>"
      ],
      "text/plain": [
       "         make     model                  variant     body_type  mileage  \\\n",
       "8264  Porsche   Cayenne                   Diesel           suv    90000   \n",
       "8265  Porsche   Cayenne  Diesel Platinum Edition           suv    65000   \n",
       "8266  Porsche   Cayenne                   Diesel           suv    90000   \n",
       "8267  Porsche   Cayenne  Diesel Platinum Edition           suv    65000   \n",
       "8268  Porsche   Cayenne                   Diesel           suv    90000   \n",
       "8269  Porsche   Cayenne  Diesel Platinum Edition           suv    65000   \n",
       "8270  Porsche   Cayenne                   Diesel           suv    90000   \n",
       "8271  Porsche   Cayenne  Diesel Platinum Edition           suv    65000   \n",
       "8272  Porsche   Cayenne  Diesel Platinum Edition           suv    49000   \n",
       "8273  Porsche   Cayenne                   Diesel           suv   121000   \n",
       "8274  Porsche   Cayenne                   Diesel           suv    76000   \n",
       "8275  Porsche   Cayenne                   Diesel           suv    76000   \n",
       "8276  Porsche   Cayenne  Diesel Platinum Edition           suv    62000   \n",
       "8277  Porsche   Cayenne                   Diesel           suv    99000   \n",
       "8278  Porsche  Panamera                   Diesel         sedan     9800   \n",
       "8279  Porsche   Cayenne                   Diesel           suv    80500   \n",
       "8280  Porsche   Cayenne  Diesel Platinum Edition           suv    49999   \n",
       "8281  Porsche  Panamera             Diesel 250hp         sedan    50000   \n",
       "8282  Porsche   Cayenne                   Diesel           suv    90000   \n",
       "8283  Porsche   Cayenne                   Diesel           suv    48000   \n",
       "8284  Porsche   Cayenne  Diesel Platinum Edition           suv    35000   \n",
       "8285  Porsche       718                  Boxster  convertibles    34000   \n",
       "8286  Porsche       718                  Boxster  convertibles    34000   \n",
       "8287  Porsche   Cayenne                 S Hybrid           suv    81000   \n",
       "8288  Porsche     Macan                    Turbo           suv    42000   \n",
       "8289  Porsche   Cayenne                Tiptronic           suv   112348   \n",
       "8290  Porsche       718                   Cayman         coupe    30000   \n",
       "8291  Porsche   Cayenne   3.6 S Platinum Edition           suv     5000   \n",
       "8292  Porsche   Cayenne   3.6 S Platinum Edition           suv     6000   \n",
       "8293  Porsche       718                  Boxster  convertibles    23000   \n",
       "8294  Porsche     Macan                       R4           suv    45000   \n",
       "8295  Porsche   Boxster              S tiptronic  convertibles    14000   \n",
       "8296  Porsche       718                  Boxster  convertibles     5500   \n",
       "\n",
       "     fuel_type transmission  year     city    price  \n",
       "8264    diesel    automatic  2015  Gurgaon  4400000  \n",
       "8265    diesel    automatic  2017  Gurgaon  6625000  \n",
       "8266    diesel    automatic  2015  Gurgaon  4400000  \n",
       "8267    diesel    automatic  2017  Gurgaon  6625000  \n",
       "8268    diesel    automatic  2015  Gurgaon  4400000  \n",
       "8269    diesel    automatic  2017  Gurgaon  6625000  \n",
       "8270    diesel    automatic  2015  Gurgaon  4400000  \n",
       "8271    diesel    automatic  2017  Gurgaon  6625000  \n",
       "8272    diesel    automatic  2016  Gurgaon  6450000  \n",
       "8273    diesel    automatic  2011   Mumbai  2430000  \n",
       "8274    diesel    automatic  2013    Delhi  2849000  \n",
       "8275    diesel    automatic  2013    Delhi  2849000  \n",
       "8276    diesel    automatic  2017    Delhi  6625000  \n",
       "8277    diesel    automatic  2013    Delhi  2990000  \n",
       "8278    diesel    automatic  2013    Delhi  4200000  \n",
       "8279    diesel    automatic  2013    Delhi  2825000  \n",
       "8280    diesel    automatic  2016    Delhi  5999999  \n",
       "8281    diesel    automatic  2013    Delhi  3850001  \n",
       "8282    diesel    automatic  2015    Delhi  4500000  \n",
       "8283    diesel    automatic  2015    Delhi  3900001  \n",
       "8284    diesel    automatic  2018    Delhi  8300000  \n",
       "8285    petrol    automatic  2017   Mumbai  8700000  \n",
       "8286    petrol    automatic  2017   Mumbai  8700000  \n",
       "8287    petrol    automatic  2012   Mumbai  3200000  \n",
       "8288    petrol    automatic  2017   Mumbai  5850000  \n",
       "8289    petrol    automatic  2011    Delhi  1307890  \n",
       "8290    petrol    automatic  2017    Delhi  8800000  \n",
       "8291    petrol    automatic  2018    Delhi  9400000  \n",
       "8292    petrol    automatic  2018    Delhi  9475000  \n",
       "8293    petrol    automatic  2017    Delhi  7750000  \n",
       "8294    petrol    automatic  2017    Delhi  5675000  \n",
       "8295    petrol    automatic  2015    Delhi  7250000  \n",
       "8296    petrol    automatic  2017    Delhi  8000000  "
      ]
     },
     "execution_count": 136,
     "metadata": {},
     "output_type": "execute_result"
    }
   ],
   "source": [
    "data[data['make']=='Porsche']"
   ]
  },
  {
   "cell_type": "code",
   "execution_count": 135,
   "id": "cf78a65d",
   "metadata": {},
   "outputs": [],
   "source": [
    "data=data.drop(8298).reset_index(drop=True)"
   ]
  },
  {
   "cell_type": "code",
   "execution_count": 73,
   "id": "d4de0ac5",
   "metadata": {},
   "outputs": [
    {
     "data": {
      "text/plain": [
       "0"
      ]
     },
     "execution_count": 73,
     "metadata": {},
     "output_type": "execute_result"
    }
   ],
   "source": [
    "data['body_type'].isnull().sum()"
   ]
  },
  {
   "cell_type": "code",
   "execution_count": 72,
   "id": "6bed23e5",
   "metadata": {},
   "outputs": [],
   "source": [
    "data['body_type'].fillna(\"minivans\", inplace = True)"
   ]
  },
  {
   "cell_type": "code",
   "execution_count": 74,
   "id": "0b3cfacb",
   "metadata": {},
   "outputs": [
    {
     "name": "stdout",
     "output_type": "stream",
     "text": [
      "<class 'pandas.core.frame.DataFrame'>\n",
      "RangeIndex: 10231 entries, 0 to 10230\n",
      "Data columns (total 12 columns):\n",
      " #   Column        Non-Null Count  Dtype \n",
      "---  ------        --------------  ----- \n",
      " 0   make          10231 non-null  object\n",
      " 1   model         10231 non-null  object\n",
      " 2   variant       10231 non-null  object\n",
      " 3   body_type     10231 non-null  object\n",
      " 4   mileage       10231 non-null  int64 \n",
      " 5   fuel_type     10231 non-null  object\n",
      " 6   transmission  10231 non-null  object\n",
      " 7   year          10231 non-null  int64 \n",
      " 8   city          10231 non-null  object\n",
      " 9   price         10231 non-null  int64 \n",
      " 10  images        10231 non-null  object\n",
      " 11  it            10231 non-null  int64 \n",
      "dtypes: int64(4), object(8)\n",
      "memory usage: 959.3+ KB\n"
     ]
    }
   ],
   "source": [
    "data.info()"
   ]
  },
  {
   "cell_type": "code",
   "execution_count": 90,
   "id": "10d4d190",
   "metadata": {},
   "outputs": [
    {
     "data": {
      "text/plain": [
       "Maruti                2566\n",
       "Hyundai               2070\n",
       "Honda                 1135\n",
       "Toyota                 685\n",
       "Mahindra               563\n",
       "Mercedes-Benz          392\n",
       "Renault                342\n",
       "Tata                   330\n",
       "Ford                   328\n",
       "Volkswagen             324\n",
       "BMW                    258\n",
       "Audi                   236\n",
       "Skoda                  212\n",
       "Kia                    122\n",
       "Nissan                  94\n",
       "MG                      91\n",
       "Land Rover              83\n",
       "Chevrolet               76\n",
       "Jeep                    53\n",
       "Jaguar                  45\n",
       "Datsun                  43\n",
       "Volvo                   39\n",
       "Porsche                 35\n",
       "Mini                    27\n",
       "Mitsubishi              26\n",
       "Fiat                    17\n",
       "MG Motors               13\n",
       "Isuzu                   11\n",
       "Mahindra Ssangyong       7\n",
       "Maserati                 2\n",
       "Hindustan Motors         2\n",
       "Opel                     1\n",
       "Lexus                    1\n",
       "Bentley                  1\n",
       "Aston Martin             1\n",
       "Name: make, dtype: int64"
      ]
     },
     "execution_count": 90,
     "metadata": {},
     "output_type": "execute_result"
    }
   ],
   "source": [
    "data['make'].value_counts()"
   ]
  },
  {
   "cell_type": "code",
   "execution_count": 96,
   "id": "2f02ae95",
   "metadata": {},
   "outputs": [
    {
     "data": {
      "text/plain": [
       "Mumbai           2942\n",
       "Delhi            2653\n",
       "Bangalore        2241\n",
       "Hyderabad        1205\n",
       "Gurgaon           383\n",
       "Thane             288\n",
       "Noida             284\n",
       "Faridabad         130\n",
       "Ghaziabad          83\n",
       "Greater Noida       9\n",
       "Virar               6\n",
       "Ajmer               2\n",
       "Bhayandar           2\n",
       "vasai               2\n",
       "Mira Road           1\n",
       "Name: city, dtype: int64"
      ]
     },
     "execution_count": 96,
     "metadata": {},
     "output_type": "execute_result"
    }
   ],
   "source": [
    "data['city'].value_counts()"
   ]
  },
  {
   "cell_type": "code",
   "execution_count": 93,
   "id": "37749970",
   "metadata": {},
   "outputs": [],
   "source": [
    "data['city'] = data['city'].replace(regex=['Mumbai Mumbai'], value='Mumbai')"
   ]
  },
  {
   "cell_type": "code",
   "execution_count": 95,
   "id": "f03a7e08",
   "metadata": {},
   "outputs": [],
   "source": [
    "data['city'] = data['city'].replace(regex=['New Delhi'], value='Delhi')"
   ]
  },
  {
   "cell_type": "code",
   "execution_count": 76,
   "id": "e17d694d",
   "metadata": {},
   "outputs": [],
   "source": [
    "data['transmission']=data['transmission'].str.lower()"
   ]
  },
  {
   "cell_type": "code",
   "execution_count": 100,
   "id": "edc61500",
   "metadata": {},
   "outputs": [
    {
     "data": {
      "text/html": [
       "<div>\n",
       "<style scoped>\n",
       "    .dataframe tbody tr th:only-of-type {\n",
       "        vertical-align: middle;\n",
       "    }\n",
       "\n",
       "    .dataframe tbody tr th {\n",
       "        vertical-align: top;\n",
       "    }\n",
       "\n",
       "    .dataframe thead th {\n",
       "        text-align: right;\n",
       "    }\n",
       "</style>\n",
       "<table border=\"1\" class=\"dataframe\">\n",
       "  <thead>\n",
       "    <tr style=\"text-align: right;\">\n",
       "      <th></th>\n",
       "      <th>make</th>\n",
       "      <th>model</th>\n",
       "      <th>variant</th>\n",
       "      <th>body_type</th>\n",
       "      <th>mileage</th>\n",
       "      <th>fuel_type</th>\n",
       "      <th>transmission</th>\n",
       "      <th>year</th>\n",
       "      <th>city</th>\n",
       "      <th>price</th>\n",
       "      <th>images</th>\n",
       "      <th>it</th>\n",
       "    </tr>\n",
       "  </thead>\n",
       "  <tbody>\n",
       "    <tr>\n",
       "      <th>10226</th>\n",
       "      <td>Volvo</td>\n",
       "      <td>Country</td>\n",
       "      <td>D3 Inscription</td>\n",
       "      <td>hatchback</td>\n",
       "      <td>100000</td>\n",
       "      <td>diesel</td>\n",
       "      <td>automatic</td>\n",
       "      <td>2016</td>\n",
       "      <td>Delhi</td>\n",
       "      <td>1375000</td>\n",
       "      <td>[{'img': 'https://stimg2.cardekho.com/images/u...</td>\n",
       "      <td>0</td>\n",
       "    </tr>\n",
       "    <tr>\n",
       "      <th>10227</th>\n",
       "      <td>Volvo</td>\n",
       "      <td>XC40</td>\n",
       "      <td>T4 R-Design</td>\n",
       "      <td>suv</td>\n",
       "      <td>20000</td>\n",
       "      <td>petrol</td>\n",
       "      <td>automatic</td>\n",
       "      <td>2021</td>\n",
       "      <td>Gurgaon</td>\n",
       "      <td>3600000</td>\n",
       "      <td>[{'img': 'https://images10.gaadicdn.com/usedca...</td>\n",
       "      <td>0</td>\n",
       "    </tr>\n",
       "    <tr>\n",
       "      <th>10228</th>\n",
       "      <td>Volvo</td>\n",
       "      <td>S60</td>\n",
       "      <td>T6 Summum</td>\n",
       "      <td>sedan</td>\n",
       "      <td>78000</td>\n",
       "      <td>petrol</td>\n",
       "      <td>automatic</td>\n",
       "      <td>2011</td>\n",
       "      <td>Hyderabad</td>\n",
       "      <td>1275000</td>\n",
       "      <td>[{'img': 'https://images10.gaadicdn.com/usedca...</td>\n",
       "      <td>0</td>\n",
       "    </tr>\n",
       "    <tr>\n",
       "      <th>10229</th>\n",
       "      <td>Volvo</td>\n",
       "      <td>XC40</td>\n",
       "      <td>T4 R-Design</td>\n",
       "      <td>suv</td>\n",
       "      <td>11000</td>\n",
       "      <td>petrol</td>\n",
       "      <td>automatic</td>\n",
       "      <td>2020</td>\n",
       "      <td>Mumbai</td>\n",
       "      <td>3850000</td>\n",
       "      <td>[{'img': 'https://images10.gaadicdn.com/usedca...</td>\n",
       "      <td>0</td>\n",
       "    </tr>\n",
       "    <tr>\n",
       "      <th>10230</th>\n",
       "      <td>Volvo</td>\n",
       "      <td>S60</td>\n",
       "      <td>T4 Inscription</td>\n",
       "      <td>sedan</td>\n",
       "      <td>12000</td>\n",
       "      <td>petrol</td>\n",
       "      <td>automatic</td>\n",
       "      <td>2021</td>\n",
       "      <td>Delhi</td>\n",
       "      <td>4700000</td>\n",
       "      <td>[{'img': 'https://images10.gaadicdn.com/usedca...</td>\n",
       "      <td>0</td>\n",
       "    </tr>\n",
       "  </tbody>\n",
       "</table>\n",
       "</div>"
      ],
      "text/plain": [
       "        make    model         variant  body_type  mileage fuel_type  \\\n",
       "10226  Volvo  Country  D3 Inscription  hatchback   100000    diesel   \n",
       "10227  Volvo     XC40     T4 R-Design        suv    20000    petrol   \n",
       "10228  Volvo      S60       T6 Summum      sedan    78000    petrol   \n",
       "10229  Volvo     XC40     T4 R-Design        suv    11000    petrol   \n",
       "10230  Volvo      S60  T4 Inscription      sedan    12000    petrol   \n",
       "\n",
       "      transmission  year       city    price  \\\n",
       "10226    automatic  2016      Delhi  1375000   \n",
       "10227    automatic  2021    Gurgaon  3600000   \n",
       "10228    automatic  2011  Hyderabad  1275000   \n",
       "10229    automatic  2020     Mumbai  3850000   \n",
       "10230    automatic  2021      Delhi  4700000   \n",
       "\n",
       "                                                  images  it  \n",
       "10226  [{'img': 'https://stimg2.cardekho.com/images/u...   0  \n",
       "10227  [{'img': 'https://images10.gaadicdn.com/usedca...   0  \n",
       "10228  [{'img': 'https://images10.gaadicdn.com/usedca...   0  \n",
       "10229  [{'img': 'https://images10.gaadicdn.com/usedca...   0  \n",
       "10230  [{'img': 'https://images10.gaadicdn.com/usedca...   0  "
      ]
     },
     "execution_count": 100,
     "metadata": {},
     "output_type": "execute_result"
    }
   ],
   "source": [
    "data.tail()"
   ]
  },
  {
   "cell_type": "code",
   "execution_count": 101,
   "id": "96a1018c",
   "metadata": {},
   "outputs": [
    {
     "data": {
      "text/html": [
       "<div>\n",
       "<style scoped>\n",
       "    .dataframe tbody tr th:only-of-type {\n",
       "        vertical-align: middle;\n",
       "    }\n",
       "\n",
       "    .dataframe tbody tr th {\n",
       "        vertical-align: top;\n",
       "    }\n",
       "\n",
       "    .dataframe thead th {\n",
       "        text-align: right;\n",
       "    }\n",
       "</style>\n",
       "<table border=\"1\" class=\"dataframe\">\n",
       "  <thead>\n",
       "    <tr style=\"text-align: right;\">\n",
       "      <th></th>\n",
       "      <th>make</th>\n",
       "      <th>model</th>\n",
       "      <th>variant</th>\n",
       "      <th>body_type</th>\n",
       "      <th>mileage</th>\n",
       "      <th>fuel_type</th>\n",
       "      <th>transmission</th>\n",
       "      <th>year</th>\n",
       "      <th>city</th>\n",
       "      <th>price</th>\n",
       "      <th>images</th>\n",
       "      <th>it</th>\n",
       "    </tr>\n",
       "  </thead>\n",
       "  <tbody>\n",
       "    <tr>\n",
       "      <th>0</th>\n",
       "      <td>Aston Martin</td>\n",
       "      <td>Vantage</td>\n",
       "      <td>V8 Sport</td>\n",
       "      <td>coupe</td>\n",
       "      <td>19003</td>\n",
       "      <td>petrol</td>\n",
       "      <td>automatic</td>\n",
       "      <td>2013</td>\n",
       "      <td>Mumbai</td>\n",
       "      <td>7395000</td>\n",
       "      <td>[{'img': 'https://images10.gaadicdn.com/usedca...</td>\n",
       "      <td>0</td>\n",
       "    </tr>\n",
       "    <tr>\n",
       "      <th>1</th>\n",
       "      <td>Audi</td>\n",
       "      <td>Q5</td>\n",
       "      <td>3.0 TDI Quattro</td>\n",
       "      <td>suv</td>\n",
       "      <td>130000</td>\n",
       "      <td>diesel</td>\n",
       "      <td>automatic</td>\n",
       "      <td>2011</td>\n",
       "      <td>Ajmer</td>\n",
       "      <td>1250000</td>\n",
       "      <td>[{'img': 'https://images10.gaadicdn.com/usedca...</td>\n",
       "      <td>0</td>\n",
       "    </tr>\n",
       "    <tr>\n",
       "      <th>2</th>\n",
       "      <td>Audi</td>\n",
       "      <td>Q3</td>\n",
       "      <td>2.0 TDI Quattro Premium Plus</td>\n",
       "      <td>suv</td>\n",
       "      <td>160000</td>\n",
       "      <td>diesel</td>\n",
       "      <td>automatic</td>\n",
       "      <td>2012</td>\n",
       "      <td>Ajmer</td>\n",
       "      <td>1250000</td>\n",
       "      <td>[{'img': 'https://images10.gaadicdn.com/usedca...</td>\n",
       "      <td>0</td>\n",
       "    </tr>\n",
       "    <tr>\n",
       "      <th>3</th>\n",
       "      <td>Audi</td>\n",
       "      <td>Q5</td>\n",
       "      <td>30 TDI quattro Premium Plus</td>\n",
       "      <td>suv</td>\n",
       "      <td>104000</td>\n",
       "      <td>diesel</td>\n",
       "      <td>automatic</td>\n",
       "      <td>2015</td>\n",
       "      <td>Bangalore</td>\n",
       "      <td>2550000</td>\n",
       "      <td>[{'img': 'https://images10.gaadicdn.com/usedca...</td>\n",
       "      <td>0</td>\n",
       "    </tr>\n",
       "    <tr>\n",
       "      <th>4</th>\n",
       "      <td>Audi</td>\n",
       "      <td>Q3</td>\n",
       "      <td>2.0 TDI Quattro Premium Plus</td>\n",
       "      <td>suv</td>\n",
       "      <td>49000</td>\n",
       "      <td>diesel</td>\n",
       "      <td>automatic</td>\n",
       "      <td>2015</td>\n",
       "      <td>Bangalore</td>\n",
       "      <td>1875000</td>\n",
       "      <td>[{'img': 'https://images10.gaadicdn.com/usedca...</td>\n",
       "      <td>0</td>\n",
       "    </tr>\n",
       "    <tr>\n",
       "      <th>...</th>\n",
       "      <td>...</td>\n",
       "      <td>...</td>\n",
       "      <td>...</td>\n",
       "      <td>...</td>\n",
       "      <td>...</td>\n",
       "      <td>...</td>\n",
       "      <td>...</td>\n",
       "      <td>...</td>\n",
       "      <td>...</td>\n",
       "      <td>...</td>\n",
       "      <td>...</td>\n",
       "      <td>...</td>\n",
       "    </tr>\n",
       "    <tr>\n",
       "      <th>10226</th>\n",
       "      <td>Volvo</td>\n",
       "      <td>Country</td>\n",
       "      <td>D3 Inscription</td>\n",
       "      <td>hatchback</td>\n",
       "      <td>100000</td>\n",
       "      <td>diesel</td>\n",
       "      <td>automatic</td>\n",
       "      <td>2016</td>\n",
       "      <td>Delhi</td>\n",
       "      <td>1375000</td>\n",
       "      <td>[{'img': 'https://stimg2.cardekho.com/images/u...</td>\n",
       "      <td>0</td>\n",
       "    </tr>\n",
       "    <tr>\n",
       "      <th>10227</th>\n",
       "      <td>Volvo</td>\n",
       "      <td>XC40</td>\n",
       "      <td>T4 R-Design</td>\n",
       "      <td>suv</td>\n",
       "      <td>20000</td>\n",
       "      <td>petrol</td>\n",
       "      <td>automatic</td>\n",
       "      <td>2021</td>\n",
       "      <td>Gurgaon</td>\n",
       "      <td>3600000</td>\n",
       "      <td>[{'img': 'https://images10.gaadicdn.com/usedca...</td>\n",
       "      <td>0</td>\n",
       "    </tr>\n",
       "    <tr>\n",
       "      <th>10228</th>\n",
       "      <td>Volvo</td>\n",
       "      <td>S60</td>\n",
       "      <td>T6 Summum</td>\n",
       "      <td>sedan</td>\n",
       "      <td>78000</td>\n",
       "      <td>petrol</td>\n",
       "      <td>automatic</td>\n",
       "      <td>2011</td>\n",
       "      <td>Hyderabad</td>\n",
       "      <td>1275000</td>\n",
       "      <td>[{'img': 'https://images10.gaadicdn.com/usedca...</td>\n",
       "      <td>0</td>\n",
       "    </tr>\n",
       "    <tr>\n",
       "      <th>10229</th>\n",
       "      <td>Volvo</td>\n",
       "      <td>XC40</td>\n",
       "      <td>T4 R-Design</td>\n",
       "      <td>suv</td>\n",
       "      <td>11000</td>\n",
       "      <td>petrol</td>\n",
       "      <td>automatic</td>\n",
       "      <td>2020</td>\n",
       "      <td>Mumbai</td>\n",
       "      <td>3850000</td>\n",
       "      <td>[{'img': 'https://images10.gaadicdn.com/usedca...</td>\n",
       "      <td>0</td>\n",
       "    </tr>\n",
       "    <tr>\n",
       "      <th>10230</th>\n",
       "      <td>Volvo</td>\n",
       "      <td>S60</td>\n",
       "      <td>T4 Inscription</td>\n",
       "      <td>sedan</td>\n",
       "      <td>12000</td>\n",
       "      <td>petrol</td>\n",
       "      <td>automatic</td>\n",
       "      <td>2021</td>\n",
       "      <td>Delhi</td>\n",
       "      <td>4700000</td>\n",
       "      <td>[{'img': 'https://images10.gaadicdn.com/usedca...</td>\n",
       "      <td>0</td>\n",
       "    </tr>\n",
       "  </tbody>\n",
       "</table>\n",
       "<p>10231 rows × 12 columns</p>\n",
       "</div>"
      ],
      "text/plain": [
       "               make    model                       variant  body_type  \\\n",
       "0      Aston Martin  Vantage                      V8 Sport      coupe   \n",
       "1              Audi       Q5               3.0 TDI Quattro        suv   \n",
       "2              Audi       Q3  2.0 TDI Quattro Premium Plus        suv   \n",
       "3              Audi       Q5   30 TDI quattro Premium Plus        suv   \n",
       "4              Audi       Q3  2.0 TDI Quattro Premium Plus        suv   \n",
       "...             ...      ...                           ...        ...   \n",
       "10226         Volvo  Country                D3 Inscription  hatchback   \n",
       "10227         Volvo     XC40                   T4 R-Design        suv   \n",
       "10228         Volvo      S60                     T6 Summum      sedan   \n",
       "10229         Volvo     XC40                   T4 R-Design        suv   \n",
       "10230         Volvo      S60                T4 Inscription      sedan   \n",
       "\n",
       "       mileage fuel_type transmission  year       city    price  \\\n",
       "0        19003    petrol    automatic  2013     Mumbai  7395000   \n",
       "1       130000    diesel    automatic  2011      Ajmer  1250000   \n",
       "2       160000    diesel    automatic  2012      Ajmer  1250000   \n",
       "3       104000    diesel    automatic  2015  Bangalore  2550000   \n",
       "4        49000    diesel    automatic  2015  Bangalore  1875000   \n",
       "...        ...       ...          ...   ...        ...      ...   \n",
       "10226   100000    diesel    automatic  2016      Delhi  1375000   \n",
       "10227    20000    petrol    automatic  2021    Gurgaon  3600000   \n",
       "10228    78000    petrol    automatic  2011  Hyderabad  1275000   \n",
       "10229    11000    petrol    automatic  2020     Mumbai  3850000   \n",
       "10230    12000    petrol    automatic  2021      Delhi  4700000   \n",
       "\n",
       "                                                  images  it  \n",
       "0      [{'img': 'https://images10.gaadicdn.com/usedca...   0  \n",
       "1      [{'img': 'https://images10.gaadicdn.com/usedca...   0  \n",
       "2      [{'img': 'https://images10.gaadicdn.com/usedca...   0  \n",
       "3      [{'img': 'https://images10.gaadicdn.com/usedca...   0  \n",
       "4      [{'img': 'https://images10.gaadicdn.com/usedca...   0  \n",
       "...                                                  ...  ..  \n",
       "10226  [{'img': 'https://stimg2.cardekho.com/images/u...   0  \n",
       "10227  [{'img': 'https://images10.gaadicdn.com/usedca...   0  \n",
       "10228  [{'img': 'https://images10.gaadicdn.com/usedca...   0  \n",
       "10229  [{'img': 'https://images10.gaadicdn.com/usedca...   0  \n",
       "10230  [{'img': 'https://images10.gaadicdn.com/usedca...   0  \n",
       "\n",
       "[10231 rows x 12 columns]"
      ]
     },
     "execution_count": 101,
     "metadata": {},
     "output_type": "execute_result"
    }
   ],
   "source": [
    "data.reset_index(drop=True)"
   ]
  },
  {
   "cell_type": "code",
   "execution_count": 102,
   "id": "dcac075a",
   "metadata": {},
   "outputs": [],
   "source": [
    "columns = ['images', 'it']\n",
    "data.drop(columns, inplace=True, axis=1)"
   ]
  },
  {
   "cell_type": "code",
   "execution_count": 103,
   "id": "de42e190",
   "metadata": {},
   "outputs": [
    {
     "data": {
      "text/html": [
       "<div>\n",
       "<style scoped>\n",
       "    .dataframe tbody tr th:only-of-type {\n",
       "        vertical-align: middle;\n",
       "    }\n",
       "\n",
       "    .dataframe tbody tr th {\n",
       "        vertical-align: top;\n",
       "    }\n",
       "\n",
       "    .dataframe thead th {\n",
       "        text-align: right;\n",
       "    }\n",
       "</style>\n",
       "<table border=\"1\" class=\"dataframe\">\n",
       "  <thead>\n",
       "    <tr style=\"text-align: right;\">\n",
       "      <th></th>\n",
       "      <th>make</th>\n",
       "      <th>model</th>\n",
       "      <th>variant</th>\n",
       "      <th>body_type</th>\n",
       "      <th>mileage</th>\n",
       "      <th>fuel_type</th>\n",
       "      <th>transmission</th>\n",
       "      <th>year</th>\n",
       "      <th>city</th>\n",
       "      <th>price</th>\n",
       "    </tr>\n",
       "  </thead>\n",
       "  <tbody>\n",
       "    <tr>\n",
       "      <th>0</th>\n",
       "      <td>Aston Martin</td>\n",
       "      <td>Vantage</td>\n",
       "      <td>V8 Sport</td>\n",
       "      <td>coupe</td>\n",
       "      <td>19003</td>\n",
       "      <td>petrol</td>\n",
       "      <td>automatic</td>\n",
       "      <td>2013</td>\n",
       "      <td>Mumbai</td>\n",
       "      <td>7395000</td>\n",
       "    </tr>\n",
       "    <tr>\n",
       "      <th>1</th>\n",
       "      <td>Audi</td>\n",
       "      <td>Q5</td>\n",
       "      <td>3.0 TDI Quattro</td>\n",
       "      <td>suv</td>\n",
       "      <td>130000</td>\n",
       "      <td>diesel</td>\n",
       "      <td>automatic</td>\n",
       "      <td>2011</td>\n",
       "      <td>Ajmer</td>\n",
       "      <td>1250000</td>\n",
       "    </tr>\n",
       "    <tr>\n",
       "      <th>2</th>\n",
       "      <td>Audi</td>\n",
       "      <td>Q3</td>\n",
       "      <td>2.0 TDI Quattro Premium Plus</td>\n",
       "      <td>suv</td>\n",
       "      <td>160000</td>\n",
       "      <td>diesel</td>\n",
       "      <td>automatic</td>\n",
       "      <td>2012</td>\n",
       "      <td>Ajmer</td>\n",
       "      <td>1250000</td>\n",
       "    </tr>\n",
       "    <tr>\n",
       "      <th>3</th>\n",
       "      <td>Audi</td>\n",
       "      <td>Q5</td>\n",
       "      <td>30 TDI quattro Premium Plus</td>\n",
       "      <td>suv</td>\n",
       "      <td>104000</td>\n",
       "      <td>diesel</td>\n",
       "      <td>automatic</td>\n",
       "      <td>2015</td>\n",
       "      <td>Bangalore</td>\n",
       "      <td>2550000</td>\n",
       "    </tr>\n",
       "    <tr>\n",
       "      <th>4</th>\n",
       "      <td>Audi</td>\n",
       "      <td>Q3</td>\n",
       "      <td>2.0 TDI Quattro Premium Plus</td>\n",
       "      <td>suv</td>\n",
       "      <td>49000</td>\n",
       "      <td>diesel</td>\n",
       "      <td>automatic</td>\n",
       "      <td>2015</td>\n",
       "      <td>Bangalore</td>\n",
       "      <td>1875000</td>\n",
       "    </tr>\n",
       "  </tbody>\n",
       "</table>\n",
       "</div>"
      ],
      "text/plain": [
       "           make    model                       variant body_type  mileage  \\\n",
       "0  Aston Martin  Vantage                      V8 Sport     coupe    19003   \n",
       "1          Audi       Q5               3.0 TDI Quattro       suv   130000   \n",
       "2          Audi       Q3  2.0 TDI Quattro Premium Plus       suv   160000   \n",
       "3          Audi       Q5   30 TDI quattro Premium Plus       suv   104000   \n",
       "4          Audi       Q3  2.0 TDI Quattro Premium Plus       suv    49000   \n",
       "\n",
       "  fuel_type transmission  year       city    price  \n",
       "0    petrol    automatic  2013     Mumbai  7395000  \n",
       "1    diesel    automatic  2011      Ajmer  1250000  \n",
       "2    diesel    automatic  2012      Ajmer  1250000  \n",
       "3    diesel    automatic  2015  Bangalore  2550000  \n",
       "4    diesel    automatic  2015  Bangalore  1875000  "
      ]
     },
     "execution_count": 103,
     "metadata": {},
     "output_type": "execute_result"
    }
   ],
   "source": [
    "data.head()"
   ]
  },
  {
   "cell_type": "code",
   "execution_count": 137,
   "id": "533f81da",
   "metadata": {},
   "outputs": [
    {
     "data": {
      "text/html": [
       "<div>\n",
       "<style scoped>\n",
       "    .dataframe tbody tr th:only-of-type {\n",
       "        vertical-align: middle;\n",
       "    }\n",
       "\n",
       "    .dataframe tbody tr th {\n",
       "        vertical-align: top;\n",
       "    }\n",
       "\n",
       "    .dataframe thead th {\n",
       "        text-align: right;\n",
       "    }\n",
       "</style>\n",
       "<table border=\"1\" class=\"dataframe\">\n",
       "  <thead>\n",
       "    <tr style=\"text-align: right;\">\n",
       "      <th></th>\n",
       "      <th>mileage</th>\n",
       "      <th>year</th>\n",
       "      <th>price</th>\n",
       "    </tr>\n",
       "  </thead>\n",
       "  <tbody>\n",
       "    <tr>\n",
       "      <th>count</th>\n",
       "      <td>10228.0000</td>\n",
       "      <td>10228.0000</td>\n",
       "      <td>10228.0000</td>\n",
       "    </tr>\n",
       "    <tr>\n",
       "      <th>mean</th>\n",
       "      <td>52904.8039</td>\n",
       "      <td>2015.6751</td>\n",
       "      <td>999956.2254</td>\n",
       "    </tr>\n",
       "    <tr>\n",
       "      <th>std</th>\n",
       "      <td>35037.0197</td>\n",
       "      <td>3.3913</td>\n",
       "      <td>1173959.6840</td>\n",
       "    </tr>\n",
       "    <tr>\n",
       "      <th>min</th>\n",
       "      <td>101.0000</td>\n",
       "      <td>1990.0000</td>\n",
       "      <td>35000.0000</td>\n",
       "    </tr>\n",
       "    <tr>\n",
       "      <th>25%</th>\n",
       "      <td>29000.0000</td>\n",
       "      <td>2014.0000</td>\n",
       "      <td>416750.0000</td>\n",
       "    </tr>\n",
       "    <tr>\n",
       "      <th>50%</th>\n",
       "      <td>49710.0000</td>\n",
       "      <td>2016.0000</td>\n",
       "      <td>635000.0000</td>\n",
       "    </tr>\n",
       "    <tr>\n",
       "      <th>75%</th>\n",
       "      <td>70742.0000</td>\n",
       "      <td>2018.0000</td>\n",
       "      <td>1049999.2500</td>\n",
       "    </tr>\n",
       "    <tr>\n",
       "      <th>max</th>\n",
       "      <td>665000.0000</td>\n",
       "      <td>2022.0000</td>\n",
       "      <td>13635000.0000</td>\n",
       "    </tr>\n",
       "  </tbody>\n",
       "</table>\n",
       "</div>"
      ],
      "text/plain": [
       "          mileage       year         price\n",
       "count  10228.0000 10228.0000    10228.0000\n",
       "mean   52904.8039  2015.6751   999956.2254\n",
       "std    35037.0197     3.3913  1173959.6840\n",
       "min      101.0000  1990.0000    35000.0000\n",
       "25%    29000.0000  2014.0000   416750.0000\n",
       "50%    49710.0000  2016.0000   635000.0000\n",
       "75%    70742.0000  2018.0000  1049999.2500\n",
       "max   665000.0000  2022.0000 13635000.0000"
      ]
     },
     "execution_count": 137,
     "metadata": {},
     "output_type": "execute_result"
    }
   ],
   "source": [
    "data.describe()"
   ]
  },
  {
   "cell_type": "code",
   "execution_count": 105,
   "id": "53fede66",
   "metadata": {},
   "outputs": [],
   "source": [
    "pd.options.display.float_format = '{:.4f}'.format"
   ]
  },
  {
   "cell_type": "code",
   "execution_count": 131,
   "id": "f29076e0",
   "metadata": {},
   "outputs": [
    {
     "data": {
      "text/html": [
       "<div>\n",
       "<style scoped>\n",
       "    .dataframe tbody tr th:only-of-type {\n",
       "        vertical-align: middle;\n",
       "    }\n",
       "\n",
       "    .dataframe tbody tr th {\n",
       "        vertical-align: top;\n",
       "    }\n",
       "\n",
       "    .dataframe thead th {\n",
       "        text-align: right;\n",
       "    }\n",
       "</style>\n",
       "<table border=\"1\" class=\"dataframe\">\n",
       "  <thead>\n",
       "    <tr style=\"text-align: right;\">\n",
       "      <th></th>\n",
       "      <th>make</th>\n",
       "      <th>model</th>\n",
       "      <th>variant</th>\n",
       "      <th>body_type</th>\n",
       "      <th>mileage</th>\n",
       "      <th>fuel_type</th>\n",
       "      <th>transmission</th>\n",
       "      <th>year</th>\n",
       "      <th>city</th>\n",
       "      <th>price</th>\n",
       "    </tr>\n",
       "  </thead>\n",
       "  <tbody>\n",
       "    <tr>\n",
       "      <th>8292</th>\n",
       "      <td>Porsche</td>\n",
       "      <td>Coupe</td>\n",
       "      <td>GTS Coupe</td>\n",
       "      <td>coupe</td>\n",
       "      <td>6000</td>\n",
       "      <td>petrol</td>\n",
       "      <td>automatic</td>\n",
       "      <td>2021</td>\n",
       "      <td>Delhi</td>\n",
       "      <td>16700000</td>\n",
       "    </tr>\n",
       "  </tbody>\n",
       "</table>\n",
       "</div>"
      ],
      "text/plain": [
       "         make  model    variant body_type  mileage fuel_type transmission  \\\n",
       "8292  Porsche  Coupe  GTS Coupe     coupe     6000    petrol    automatic   \n",
       "\n",
       "      year   city     price  \n",
       "8292  2021  Delhi  16700000  "
      ]
     },
     "execution_count": 131,
     "metadata": {},
     "output_type": "execute_result"
    }
   ],
   "source": [
    "data[data['price']==16700000]"
   ]
  },
  {
   "cell_type": "code",
   "execution_count": 124,
   "id": "23e1881b",
   "metadata": {},
   "outputs": [
    {
     "data": {
      "text/plain": [
       "(10230, 10)"
      ]
     },
     "execution_count": 124,
     "metadata": {},
     "output_type": "execute_result"
    }
   ],
   "source": [
    "data.shape"
   ]
  },
  {
   "cell_type": "code",
   "execution_count": 119,
   "id": "6bdad659",
   "metadata": {},
   "outputs": [
    {
     "name": "stderr",
     "output_type": "stream",
     "text": [
      "C:\\Users\\racha\\anaconda3\\lib\\site-packages\\seaborn\\distributions.py:2619: FutureWarning: `distplot` is a deprecated function and will be removed in a future version. Please adapt your code to use either `displot` (a figure-level function with similar flexibility) or `histplot` (an axes-level function for histograms).\n",
      "  warnings.warn(msg, FutureWarning)\n"
     ]
    },
    {
     "data": {
      "text/plain": [
       "<AxesSubplot:xlabel='mileage', ylabel='Density'>"
      ]
     },
     "execution_count": 119,
     "metadata": {},
     "output_type": "execute_result"
    },
    {
     "data": {
      "image/png": "[encoded data removed]",
      "text/plain": [
       "<Figure size 700x700 with 1 Axes>"
      ]
     },
     "metadata": {},
     "output_type": "display_data"
    }
   ],
   "source": [
    "fig,ax = plt.subplots(figsize = (7,7))\n",
    "sns.distplot(data.mileage)"
   ]
  },
  {
   "cell_type": "code",
   "execution_count": 120,
   "id": "2c1ac1a6",
   "metadata": {},
   "outputs": [
    {
     "name": "stderr",
     "output_type": "stream",
     "text": [
      "C:\\Users\\racha\\anaconda3\\lib\\site-packages\\seaborn\\_decorators.py:36: FutureWarning: Pass the following variable as a keyword arg: x. From version 0.12, the only valid positional argument will be `data`, and passing other arguments without an explicit keyword will result in an error or misinterpretation.\n",
      "  warnings.warn(\n"
     ]
    },
    {
     "data": {
      "text/plain": [
       "<AxesSubplot:xlabel='price'>"
      ]
     },
     "execution_count": 120,
     "metadata": {},
     "output_type": "execute_result"
    },
    {
     "data": {
      "image/png": "[encoded data removed]",
      "text/plain": [
       "<Figure size 700x700 with 1 Axes>"
      ]
     },
     "metadata": {},
     "output_type": "display_data"
    }
   ],
   "source": [
    "fig,ax = plt.subplots(figsize = (7,7))\n",
    "sns.boxplot(data.price)"
   ]
  },
  {
   "cell_type": "code",
   "execution_count": 130,
   "id": "b3ced3f0",
   "metadata": {},
   "outputs": [
    {
     "data": {
      "text/plain": [
       "<AxesSubplot:xlabel='year', ylabel='count'>"
      ]
     },
     "execution_count": 130,
     "metadata": {},
     "output_type": "execute_result"
    },
    {
     "data": {
      "image/png": "[encoded data removed]",
      "text/plain": [
       "<Figure size 2000x700 with 1 Axes>"
      ]
     },
     "metadata": {},
     "output_type": "display_data"
    }
   ],
   "source": [
    "fig,ax = plt.subplots(figsize = (20,7))\n",
    "sns.countplot(x = 'year'  ,data = data)"
   ]
  },
  {
   "cell_type": "code",
   "execution_count": 138,
   "id": "3c0742c6",
   "metadata": {},
   "outputs": [],
   "source": [
    "data.to_csv(\"Cleaned_spinny.csv\")\n"
   ]
  },
  {
   "cell_type": "code",
   "execution_count": 214,
   "id": "125d93fd",
   "metadata": {},
   "outputs": [],
   "source": [
    "model=data.model.value_counts()"
   ]
  },
  {
   "cell_type": "code",
   "execution_count": null,
   "id": "f19907ba",
   "metadata": {},
   "outputs": [],
   "source": []
  },
  {
   "cell_type": "code",
   "execution_count": 215,
   "id": "81b72a81",
   "metadata": {},
   "outputs": [],
   "source": [
    "model.to_csv('model2.csv')"
   ]
  },
  {
   "cell_type": "code",
   "execution_count": 211,
   "id": "78f84778",
   "metadata": {},
   "outputs": [],
   "source": [
    "data.drop(data[data['model']==2021].index,inplace=True)"
   ]
  },
  {
   "cell_type": "code",
   "execution_count": 206,
   "id": "ead6968e",
   "metadata": {},
   "outputs": [],
   "source": [
    "data.drop(data[data['model']==35].index,inplace=True)"
   ]
  },
  {
   "cell_type": "code",
   "execution_count": 207,
   "id": "a981fda8",
   "metadata": {},
   "outputs": [],
   "source": [
    "data.drop(data[data['model']==2018].index,inplace=True)"
   ]
  },
  {
   "cell_type": "code",
   "execution_count": 208,
   "id": "6bfef0b9",
   "metadata": {},
   "outputs": [],
   "source": [
    "data.drop(data[data['model']==718].index,inplace=True)"
   ]
  },
  {
   "cell_type": "code",
   "execution_count": 209,
   "id": "69c01ce2",
   "metadata": {},
   "outputs": [],
   "source": [
    "data.drop(data[data['model']==2].index,inplace=True)"
   ]
  },
  {
   "cell_type": "code",
   "execution_count": 210,
   "id": "7a0be06a",
   "metadata": {},
   "outputs": [],
   "source": [
    "data.drop(data[data['model']==100].index,inplace=True)"
   ]
  },
  {
   "cell_type": "code",
   "execution_count": 224,
   "id": "438dd7ea",
   "metadata": {},
   "outputs": [],
   "source": [
    "data['model'].replace(\n",
    "    to_replace=[800],\n",
    "    value='Alto800',\n",
    "    inplace=True\n",
    ")"
   ]
  },
  {
   "cell_type": "code",
   "execution_count": 227,
   "id": "ad531507",
   "metadata": {},
   "outputs": [],
   "source": [
    "data['model'].replace(\n",
    "    to_replace=[300],\n",
    "    value='XUV300',\n",
    "    inplace=True\n",
    ")"
   ]
  },
  {
   "cell_type": "code",
   "execution_count": 296,
   "id": "f93847e4",
   "metadata": {},
   "outputs": [
    {
     "data": {
      "text/html": [
       "<div>\n",
       "<style scoped>\n",
       "    .dataframe tbody tr th:only-of-type {\n",
       "        vertical-align: middle;\n",
       "    }\n",
       "\n",
       "    .dataframe tbody tr th {\n",
       "        vertical-align: top;\n",
       "    }\n",
       "\n",
       "    .dataframe thead th {\n",
       "        text-align: right;\n",
       "    }\n",
       "</style>\n",
       "<table border=\"1\" class=\"dataframe\">\n",
       "  <thead>\n",
       "    <tr style=\"text-align: right;\">\n",
       "      <th></th>\n",
       "      <th>make</th>\n",
       "      <th>model</th>\n",
       "      <th>variant</th>\n",
       "      <th>body_type</th>\n",
       "      <th>mileage</th>\n",
       "      <th>fuel_type</th>\n",
       "      <th>transmission</th>\n",
       "      <th>year</th>\n",
       "      <th>city</th>\n",
       "      <th>price</th>\n",
       "    </tr>\n",
       "  </thead>\n",
       "  <tbody>\n",
       "    <tr>\n",
       "      <th>5054</th>\n",
       "      <td>Maruti</td>\n",
       "      <td>Alto800</td>\n",
       "      <td>CNG LXI Optional</td>\n",
       "      <td>hatchback</td>\n",
       "      <td>42000</td>\n",
       "      <td>cng</td>\n",
       "      <td>manual</td>\n",
       "      <td>2018</td>\n",
       "      <td>Faridabad</td>\n",
       "      <td>335000</td>\n",
       "    </tr>\n",
       "    <tr>\n",
       "      <th>5057</th>\n",
       "      <td>Maruti</td>\n",
       "      <td>Alto800</td>\n",
       "      <td>CNG LXI</td>\n",
       "      <td>hatchback</td>\n",
       "      <td>34000</td>\n",
       "      <td>cng</td>\n",
       "      <td>manual</td>\n",
       "      <td>2017</td>\n",
       "      <td>Faridabad</td>\n",
       "      <td>310000</td>\n",
       "    </tr>\n",
       "    <tr>\n",
       "      <th>5074</th>\n",
       "      <td>Maruti</td>\n",
       "      <td>Alto800</td>\n",
       "      <td>CNG LXI</td>\n",
       "      <td>hatchback</td>\n",
       "      <td>65234</td>\n",
       "      <td>cng</td>\n",
       "      <td>manual</td>\n",
       "      <td>2016</td>\n",
       "      <td>Mumbai</td>\n",
       "      <td>295000</td>\n",
       "    </tr>\n",
       "    <tr>\n",
       "      <th>5076</th>\n",
       "      <td>Maruti</td>\n",
       "      <td>Alto800</td>\n",
       "      <td>CNG LXI</td>\n",
       "      <td>hatchback</td>\n",
       "      <td>80827</td>\n",
       "      <td>cng</td>\n",
       "      <td>manual</td>\n",
       "      <td>2018</td>\n",
       "      <td>Mumbai</td>\n",
       "      <td>319000</td>\n",
       "    </tr>\n",
       "    <tr>\n",
       "      <th>5078</th>\n",
       "      <td>Maruti</td>\n",
       "      <td>Alto800</td>\n",
       "      <td>CNG LXI Optional</td>\n",
       "      <td>hatchback</td>\n",
       "      <td>60562</td>\n",
       "      <td>cng</td>\n",
       "      <td>manual</td>\n",
       "      <td>2018</td>\n",
       "      <td>Mumbai</td>\n",
       "      <td>310000</td>\n",
       "    </tr>\n",
       "    <tr>\n",
       "      <th>...</th>\n",
       "      <td>...</td>\n",
       "      <td>...</td>\n",
       "      <td>...</td>\n",
       "      <td>...</td>\n",
       "      <td>...</td>\n",
       "      <td>...</td>\n",
       "      <td>...</td>\n",
       "      <td>...</td>\n",
       "      <td>...</td>\n",
       "      <td>...</td>\n",
       "    </tr>\n",
       "    <tr>\n",
       "      <th>6911</th>\n",
       "      <td>Maruti</td>\n",
       "      <td>Alto800</td>\n",
       "      <td>LXI</td>\n",
       "      <td>hatchback</td>\n",
       "      <td>29209</td>\n",
       "      <td>petrol</td>\n",
       "      <td>manual</td>\n",
       "      <td>2015</td>\n",
       "      <td>Delhi</td>\n",
       "      <td>230000</td>\n",
       "    </tr>\n",
       "    <tr>\n",
       "      <th>6961</th>\n",
       "      <td>Maruti</td>\n",
       "      <td>Alto800</td>\n",
       "      <td>LXI</td>\n",
       "      <td>hatchback</td>\n",
       "      <td>33000</td>\n",
       "      <td>petrol</td>\n",
       "      <td>manual</td>\n",
       "      <td>2019</td>\n",
       "      <td>Noida</td>\n",
       "      <td>355000</td>\n",
       "    </tr>\n",
       "    <tr>\n",
       "      <th>6965</th>\n",
       "      <td>Maruti</td>\n",
       "      <td>Alto800</td>\n",
       "      <td>LXI</td>\n",
       "      <td>hatchback</td>\n",
       "      <td>42000</td>\n",
       "      <td>petrol</td>\n",
       "      <td>manual</td>\n",
       "      <td>2014</td>\n",
       "      <td>Noida</td>\n",
       "      <td>240000</td>\n",
       "    </tr>\n",
       "    <tr>\n",
       "      <th>6972</th>\n",
       "      <td>Maruti</td>\n",
       "      <td>Alto800</td>\n",
       "      <td>LXI</td>\n",
       "      <td>hatchback</td>\n",
       "      <td>60976</td>\n",
       "      <td>petrol</td>\n",
       "      <td>manual</td>\n",
       "      <td>2015</td>\n",
       "      <td>Thane</td>\n",
       "      <td>265000</td>\n",
       "    </tr>\n",
       "    <tr>\n",
       "      <th>6988</th>\n",
       "      <td>Maruti</td>\n",
       "      <td>Alto800</td>\n",
       "      <td>VXI</td>\n",
       "      <td>hatchback</td>\n",
       "      <td>20387</td>\n",
       "      <td>petrol</td>\n",
       "      <td>manual</td>\n",
       "      <td>2013</td>\n",
       "      <td>Thane</td>\n",
       "      <td>245000</td>\n",
       "    </tr>\n",
       "  </tbody>\n",
       "</table>\n",
       "<p>106 rows × 10 columns</p>\n",
       "</div>"
      ],
      "text/plain": [
       "        make    model           variant  body_type  mileage fuel_type  \\\n",
       "5054  Maruti  Alto800  CNG LXI Optional  hatchback    42000       cng   \n",
       "5057  Maruti  Alto800           CNG LXI  hatchback    34000       cng   \n",
       "5074  Maruti  Alto800           CNG LXI  hatchback    65234       cng   \n",
       "5076  Maruti  Alto800           CNG LXI  hatchback    80827       cng   \n",
       "5078  Maruti  Alto800  CNG LXI Optional  hatchback    60562       cng   \n",
       "...      ...      ...               ...        ...      ...       ...   \n",
       "6911  Maruti  Alto800               LXI  hatchback    29209    petrol   \n",
       "6961  Maruti  Alto800               LXI  hatchback    33000    petrol   \n",
       "6965  Maruti  Alto800               LXI  hatchback    42000    petrol   \n",
       "6972  Maruti  Alto800               LXI  hatchback    60976    petrol   \n",
       "6988  Maruti  Alto800               VXI  hatchback    20387    petrol   \n",
       "\n",
       "     transmission  year       city   price  \n",
       "5054       manual  2018  Faridabad  335000  \n",
       "5057       manual  2017  Faridabad  310000  \n",
       "5074       manual  2016     Mumbai  295000  \n",
       "5076       manual  2018     Mumbai  319000  \n",
       "5078       manual  2018     Mumbai  310000  \n",
       "...           ...   ...        ...     ...  \n",
       "6911       manual  2015      Delhi  230000  \n",
       "6961       manual  2019      Noida  355000  \n",
       "6965       manual  2014      Noida  240000  \n",
       "6972       manual  2015      Thane  265000  \n",
       "6988       manual  2013      Thane  245000  \n",
       "\n",
       "[106 rows x 10 columns]"
      ]
     },
     "execution_count": 296,
     "metadata": {},
     "output_type": "execute_result"
    }
   ],
   "source": [
    "data[data['model']=='Alto800']"
   ]
  },
  {
   "cell_type": "markdown",
   "id": "b2eed453",
   "metadata": {},
   "source": [
    "# modell building"
   ]
  },
  {
   "cell_type": "code",
   "execution_count": 264,
   "id": "0c9946f7",
   "metadata": {},
   "outputs": [],
   "source": [
    "X=data.drop(columns='price')\n",
    "y=data['price']"
   ]
  },
  {
   "cell_type": "code",
   "execution_count": 265,
   "id": "ea3f8931",
   "metadata": {},
   "outputs": [
    {
     "data": {
      "text/html": [
       "<div>\n",
       "<style scoped>\n",
       "    .dataframe tbody tr th:only-of-type {\n",
       "        vertical-align: middle;\n",
       "    }\n",
       "\n",
       "    .dataframe tbody tr th {\n",
       "        vertical-align: top;\n",
       "    }\n",
       "\n",
       "    .dataframe thead th {\n",
       "        text-align: right;\n",
       "    }\n",
       "</style>\n",
       "<table border=\"1\" class=\"dataframe\">\n",
       "  <thead>\n",
       "    <tr style=\"text-align: right;\">\n",
       "      <th></th>\n",
       "      <th>make</th>\n",
       "      <th>model</th>\n",
       "      <th>variant</th>\n",
       "      <th>body_type</th>\n",
       "      <th>mileage</th>\n",
       "      <th>fuel_type</th>\n",
       "      <th>transmission</th>\n",
       "      <th>year</th>\n",
       "      <th>city</th>\n",
       "    </tr>\n",
       "  </thead>\n",
       "  <tbody>\n",
       "    <tr>\n",
       "      <th>0</th>\n",
       "      <td>Aston Martin</td>\n",
       "      <td>Vantage</td>\n",
       "      <td>V8 Sport</td>\n",
       "      <td>coupe</td>\n",
       "      <td>19003</td>\n",
       "      <td>petrol</td>\n",
       "      <td>automatic</td>\n",
       "      <td>2013</td>\n",
       "      <td>Mumbai</td>\n",
       "    </tr>\n",
       "    <tr>\n",
       "      <th>1</th>\n",
       "      <td>Audi</td>\n",
       "      <td>Q5</td>\n",
       "      <td>3.0 TDI Quattro</td>\n",
       "      <td>suv</td>\n",
       "      <td>130000</td>\n",
       "      <td>diesel</td>\n",
       "      <td>automatic</td>\n",
       "      <td>2011</td>\n",
       "      <td>Ajmer</td>\n",
       "    </tr>\n",
       "    <tr>\n",
       "      <th>2</th>\n",
       "      <td>Audi</td>\n",
       "      <td>Q3</td>\n",
       "      <td>2.0 TDI Quattro Premium Plus</td>\n",
       "      <td>suv</td>\n",
       "      <td>160000</td>\n",
       "      <td>diesel</td>\n",
       "      <td>automatic</td>\n",
       "      <td>2012</td>\n",
       "      <td>Ajmer</td>\n",
       "    </tr>\n",
       "    <tr>\n",
       "      <th>3</th>\n",
       "      <td>Audi</td>\n",
       "      <td>Q5</td>\n",
       "      <td>30 TDI quattro Premium Plus</td>\n",
       "      <td>suv</td>\n",
       "      <td>104000</td>\n",
       "      <td>diesel</td>\n",
       "      <td>automatic</td>\n",
       "      <td>2015</td>\n",
       "      <td>Bangalore</td>\n",
       "    </tr>\n",
       "    <tr>\n",
       "      <th>4</th>\n",
       "      <td>Audi</td>\n",
       "      <td>Q3</td>\n",
       "      <td>2.0 TDI Quattro Premium Plus</td>\n",
       "      <td>suv</td>\n",
       "      <td>49000</td>\n",
       "      <td>diesel</td>\n",
       "      <td>automatic</td>\n",
       "      <td>2015</td>\n",
       "      <td>Bangalore</td>\n",
       "    </tr>\n",
       "  </tbody>\n",
       "</table>\n",
       "</div>"
      ],
      "text/plain": [
       "           make    model                       variant body_type  mileage  \\\n",
       "0  Aston Martin  Vantage                      V8 Sport     coupe    19003   \n",
       "1          Audi       Q5               3.0 TDI Quattro       suv   130000   \n",
       "2          Audi       Q3  2.0 TDI Quattro Premium Plus       suv   160000   \n",
       "3          Audi       Q5   30 TDI quattro Premium Plus       suv   104000   \n",
       "4          Audi       Q3  2.0 TDI Quattro Premium Plus       suv    49000   \n",
       "\n",
       "  fuel_type transmission  year       city  \n",
       "0    petrol    automatic  2013     Mumbai  \n",
       "1    diesel    automatic  2011      Ajmer  \n",
       "2    diesel    automatic  2012      Ajmer  \n",
       "3    diesel    automatic  2015  Bangalore  \n",
       "4    diesel    automatic  2015  Bangalore  "
      ]
     },
     "execution_count": 265,
     "metadata": {},
     "output_type": "execute_result"
    }
   ],
   "source": [
    "X.head()"
   ]
  },
  {
   "cell_type": "code",
   "execution_count": 266,
   "id": "d50ba117",
   "metadata": {},
   "outputs": [
    {
     "name": "stdout",
     "output_type": "stream",
     "text": [
      "<class 'pandas.core.frame.DataFrame'>\n",
      "Int64Index: 10193 entries, 0 to 10227\n",
      "Data columns (total 9 columns):\n",
      " #   Column        Non-Null Count  Dtype \n",
      "---  ------        --------------  ----- \n",
      " 0   make          10193 non-null  object\n",
      " 1   model         10193 non-null  object\n",
      " 2   variant       10193 non-null  object\n",
      " 3   body_type     10193 non-null  object\n",
      " 4   mileage       10193 non-null  int64 \n",
      " 5   fuel_type     10193 non-null  object\n",
      " 6   transmission  10193 non-null  object\n",
      " 7   year          10193 non-null  int64 \n",
      " 8   city          10193 non-null  object\n",
      "dtypes: int64(2), object(7)\n",
      "memory usage: 1.0+ MB\n"
     ]
    }
   ],
   "source": [
    "X.info()"
   ]
  },
  {
   "cell_type": "code",
   "execution_count": 267,
   "id": "685f317e",
   "metadata": {},
   "outputs": [
    {
     "data": {
      "text/plain": [
       "0    7395000\n",
       "1    1250000\n",
       "2    1250000\n",
       "3    2550000\n",
       "4    1875000\n",
       "Name: price, dtype: int64"
      ]
     },
     "execution_count": 267,
     "metadata": {},
     "output_type": "execute_result"
    }
   ],
   "source": [
    "y.head()"
   ]
  },
  {
   "cell_type": "code",
   "execution_count": 233,
   "id": "933a6eff",
   "metadata": {},
   "outputs": [],
   "source": [
    "from sklearn.model_selection import train_test_split\n",
    "X_train, X_test, y_train, y_test = train_test_split(X, y, test_size=0.2)"
   ]
  },
  {
   "cell_type": "code",
   "execution_count": 268,
   "id": "22676c96",
   "metadata": {},
   "outputs": [],
   "source": [
    "from sklearn.linear_model import LinearRegression\n",
    "from sklearn.metrics import r2_score\n",
    "from sklearn.preprocessing import OneHotEncoder\n",
    "from sklearn.compose import make_column_transformer\n",
    "from sklearn.pipeline import make_pipeline"
   ]
  },
  {
   "cell_type": "code",
   "execution_count": 269,
   "id": "ef9d8c33",
   "metadata": {},
   "outputs": [
    {
     "data": {
      "text/html": [
       "<style>#sk-container-id-1 {color: black;background-color: white;}#sk-container-id-1 pre{padding: 0;}#sk-container-id-1 div.sk-toggleable {background-color: white;}#sk-container-id-1 label.sk-toggleable__label {cursor: pointer;display: block;width: 100%;margin-bottom: 0;padding: 0.3em;box-sizing: border-box;text-align: center;}#sk-container-id-1 label.sk-toggleable__label-arrow:before {content: \"▸\";float: left;margin-right: 0.25em;color: #696969;}#sk-container-id-1 label.sk-toggleable__label-arrow:hover:before {color: black;}#sk-container-id-1 div.sk-estimator:hover label.sk-toggleable__label-arrow:before {color: black;}#sk-container-id-1 div.sk-toggleable__content {max-height: 0;max-width: 0;overflow: hidden;text-align: left;background-color: #f0f8ff;}#sk-container-id-1 div.sk-toggleable__content pre {margin: 0.2em;color: black;border-radius: 0.25em;background-color: #f0f8ff;}#sk-container-id-1 input.sk-toggleable__control:checked~div.sk-toggleable__content {max-height: 200px;max-width: 100%;overflow: auto;}#sk-container-id-1 input.sk-toggleable__control:checked~label.sk-toggleable__label-arrow:before {content: \"▾\";}#sk-container-id-1 div.sk-estimator input.sk-toggleable__control:checked~label.sk-toggleable__label {background-color: #d4ebff;}#sk-container-id-1 div.sk-label input.sk-toggleable__control:checked~label.sk-toggleable__label {background-color: #d4ebff;}#sk-container-id-1 input.sk-hidden--visually {border: 0;clip: rect(1px 1px 1px 1px);clip: rect(1px, 1px, 1px, 1px);height: 1px;margin: -1px;overflow: hidden;padding: 0;position: absolute;width: 1px;}#sk-container-id-1 div.sk-estimator {font-family: monospace;background-color: #f0f8ff;border: 1px dotted black;border-radius: 0.25em;box-sizing: border-box;margin-bottom: 0.5em;}#sk-container-id-1 div.sk-estimator:hover {background-color: #d4ebff;}#sk-container-id-1 div.sk-parallel-item::after {content: \"\";width: 100%;border-bottom: 1px solid gray;flex-grow: 1;}#sk-container-id-1 div.sk-label:hover label.sk-toggleable__label {background-color: #d4ebff;}#sk-container-id-1 div.sk-serial::before {content: \"\";position: absolute;border-left: 1px solid gray;box-sizing: border-box;top: 0;bottom: 0;left: 50%;z-index: 0;}#sk-container-id-1 div.sk-serial {display: flex;flex-direction: column;align-items: center;background-color: white;padding-right: 0.2em;padding-left: 0.2em;position: relative;}#sk-container-id-1 div.sk-item {position: relative;z-index: 1;}#sk-container-id-1 div.sk-parallel {display: flex;align-items: stretch;justify-content: center;background-color: white;position: relative;}#sk-container-id-1 div.sk-item::before, #sk-container-id-1 div.sk-parallel-item::before {content: \"\";position: absolute;border-left: 1px solid gray;box-sizing: border-box;top: 0;bottom: 0;left: 50%;z-index: -1;}#sk-container-id-1 div.sk-parallel-item {display: flex;flex-direction: column;z-index: 1;position: relative;background-color: white;}#sk-container-id-1 div.sk-parallel-item:first-child::after {align-self: flex-end;width: 50%;}#sk-container-id-1 div.sk-parallel-item:last-child::after {align-self: flex-start;width: 50%;}#sk-container-id-1 div.sk-parallel-item:only-child::after {width: 0;}#sk-container-id-1 div.sk-dashed-wrapped {border: 1px dashed gray;margin: 0 0.4em 0.5em 0.4em;box-sizing: border-box;padding-bottom: 0.4em;background-color: white;}#sk-container-id-1 div.sk-label label {font-family: monospace;font-weight: bold;display: inline-block;line-height: 1.2em;}#sk-container-id-1 div.sk-label-container {text-align: center;}#sk-container-id-1 div.sk-container {/* jupyter's `normalize.less` sets `[hidden] { display: none; }` but bootstrap.min.css set `[hidden] { display: none !important; }` so we also need the `!important` here to be able to override the default hidden behavior on the sphinx rendered scikit-learn.org. See: https://github.com/scikit-learn/scikit-learn/issues/21755 */display: inline-block !important;position: relative;}#sk-container-id-1 div.sk-text-repr-fallback {display: none;}</style><div id=\"sk-container-id-1\" class=\"sk-top-container\"><div class=\"sk-text-repr-fallback\"><pre>OneHotEncoder()</pre><b>In a Jupyter environment, please rerun this cell to show the HTML representation or trust the notebook. <br />On GitHub, the HTML representation is unable to render, please try loading this page with nbviewer.org.</b></div><div class=\"sk-container\" hidden><div class=\"sk-item\"><div class=\"sk-estimator sk-toggleable\"><input class=\"sk-toggleable__control sk-hidden--visually\" id=\"sk-estimator-id-1\" type=\"checkbox\" checked><label for=\"sk-estimator-id-1\" class=\"sk-toggleable__label sk-toggleable__label-arrow\">OneHotEncoder</label><div class=\"sk-toggleable__content\"><pre>OneHotEncoder()</pre></div></div></div></div></div>"
      ],
      "text/plain": [
       "OneHotEncoder()"
      ]
     },
     "execution_count": 269,
     "metadata": {},
     "output_type": "execute_result"
    }
   ],
   "source": [
    "ohe=OneHotEncoder()\n",
    "ohe.fit(X[['make','model','variant','body_type','fuel_type','transmission','city']])"
   ]
  },
  {
   "cell_type": "code",
   "execution_count": 270,
   "id": "cf6a334f",
   "metadata": {},
   "outputs": [],
   "source": [
    "column_trans=make_column_transformer((OneHotEncoder(categories=ohe.categories_),['make','model','variant','body_type','fuel_type','transmission','city']),\n",
    "                                    remainder='passthrough')"
   ]
  },
  {
   "cell_type": "code",
   "execution_count": 271,
   "id": "24cdf55b",
   "metadata": {},
   "outputs": [],
   "source": [
    "lr=LinearRegression()"
   ]
  },
  {
   "cell_type": "code",
   "execution_count": 272,
   "id": "188f6577",
   "metadata": {},
   "outputs": [],
   "source": [
    "pipe=make_pipeline(column_trans,lr)"
   ]
  },
  {
   "cell_type": "code",
   "execution_count": 273,
   "id": "ea0bc955",
   "metadata": {},
   "outputs": [
    {
     "data": {
      "text/html": [
       "<style>#sk-container-id-2 {color: black;background-color: white;}#sk-container-id-2 pre{padding: 0;}#sk-container-id-2 div.sk-toggleable {background-color: white;}#sk-container-id-2 label.sk-toggleable__label {cursor: pointer;display: block;width: 100%;margin-bottom: 0;padding: 0.3em;box-sizing: border-box;text-align: center;}#sk-container-id-2 label.sk-toggleable__label-arrow:before {content: \"▸\";float: left;margin-right: 0.25em;color: #696969;}#sk-container-id-2 label.sk-toggleable__label-arrow:hover:before {color: black;}#sk-container-id-2 div.sk-estimator:hover label.sk-toggleable__label-arrow:before {color: black;}#sk-container-id-2 div.sk-toggleable__content {max-height: 0;max-width: 0;overflow: hidden;text-align: left;background-color: #f0f8ff;}#sk-container-id-2 div.sk-toggleable__content pre {margin: 0.2em;color: black;border-radius: 0.25em;background-color: #f0f8ff;}#sk-container-id-2 input.sk-toggleable__control:checked~div.sk-toggleable__content {max-height: 200px;max-width: 100%;overflow: auto;}#sk-container-id-2 input.sk-toggleable__control:checked~label.sk-toggleable__label-arrow:before {content: \"▾\";}#sk-container-id-2 div.sk-estimator input.sk-toggleable__control:checked~label.sk-toggleable__label {background-color: #d4ebff;}#sk-container-id-2 div.sk-label input.sk-toggleable__control:checked~label.sk-toggleable__label {background-color: #d4ebff;}#sk-container-id-2 input.sk-hidden--visually {border: 0;clip: rect(1px 1px 1px 1px);clip: rect(1px, 1px, 1px, 1px);height: 1px;margin: -1px;overflow: hidden;padding: 0;position: absolute;width: 1px;}#sk-container-id-2 div.sk-estimator {font-family: monospace;background-color: #f0f8ff;border: 1px dotted black;border-radius: 0.25em;box-sizing: border-box;margin-bottom: 0.5em;}#sk-container-id-2 div.sk-estimator:hover {background-color: #d4ebff;}#sk-container-id-2 div.sk-parallel-item::after {content: \"\";width: 100%;border-bottom: 1px solid gray;flex-grow: 1;}#sk-container-id-2 div.sk-label:hover label.sk-toggleable__label {background-color: #d4ebff;}#sk-container-id-2 div.sk-serial::before {content: \"\";position: absolute;border-left: 1px solid gray;box-sizing: border-box;top: 0;bottom: 0;left: 50%;z-index: 0;}#sk-container-id-2 div.sk-serial {display: flex;flex-direction: column;align-items: center;background-color: white;padding-right: 0.2em;padding-left: 0.2em;position: relative;}#sk-container-id-2 div.sk-item {position: relative;z-index: 1;}#sk-container-id-2 div.sk-parallel {display: flex;align-items: stretch;justify-content: center;background-color: white;position: relative;}#sk-container-id-2 div.sk-item::before, #sk-container-id-2 div.sk-parallel-item::before {content: \"\";position: absolute;border-left: 1px solid gray;box-sizing: border-box;top: 0;bottom: 0;left: 50%;z-index: -1;}#sk-container-id-2 div.sk-parallel-item {display: flex;flex-direction: column;z-index: 1;position: relative;background-color: white;}#sk-container-id-2 div.sk-parallel-item:first-child::after {align-self: flex-end;width: 50%;}#sk-container-id-2 div.sk-parallel-item:last-child::after {align-self: flex-start;width: 50%;}#sk-container-id-2 div.sk-parallel-item:only-child::after {width: 0;}#sk-container-id-2 div.sk-dashed-wrapped {border: 1px dashed gray;margin: 0 0.4em 0.5em 0.4em;box-sizing: border-box;padding-bottom: 0.4em;background-color: white;}#sk-container-id-2 div.sk-label label {font-family: monospace;font-weight: bold;display: inline-block;line-height: 1.2em;}#sk-container-id-2 div.sk-label-container {text-align: center;}#sk-container-id-2 div.sk-container {/* jupyter's `normalize.less` sets `[hidden] { display: none; }` but bootstrap.min.css set `[hidden] { display: none !important; }` so we also need the `!important` here to be able to override the default hidden behavior on the sphinx rendered scikit-learn.org. See: https://github.com/scikit-learn/scikit-learn/issues/21755 */display: inline-block !important;position: relative;}#sk-container-id-2 div.sk-text-repr-fallback {display: none;}</style><div id=\"sk-container-id-2\" class=\"sk-top-container\"><div class=\"sk-text-repr-fallback\"><pre>Pipeline(steps=[(&#x27;columntransformer&#x27;,\n",
       "                 ColumnTransformer(remainder=&#x27;passthrough&#x27;,\n",
       "                                   transformers=[(&#x27;onehotencoder&#x27;,\n",
       "                                                  OneHotEncoder(categories=[array([&#x27;Aston Martin&#x27;, &#x27;Audi&#x27;, &#x27;BMW&#x27;, &#x27;Bentley&#x27;, &#x27;Chevrolet&#x27;, &#x27;Datsun&#x27;,\n",
       "       &#x27;Fiat&#x27;, &#x27;Ford&#x27;, &#x27;Hindustan Motors&#x27;, &#x27;Honda&#x27;, &#x27;Hyundai&#x27;, &#x27;Isuzu&#x27;,\n",
       "       &#x27;Jaguar&#x27;, &#x27;Jeep&#x27;, &#x27;Kia&#x27;, &#x27;Land Rover&#x27;, &#x27;Lexus&#x27;, &#x27;MG&#x27;, &#x27;MG Motors&#x27;,\n",
       "       &#x27;Mahindra&#x27;, &#x27;Mahindra Ssangyong&#x27;, &#x27;M...\n",
       "                                                                            array([&#x27;cng&#x27;, &#x27;diesel&#x27;, &#x27;electric&#x27;, &#x27;lpg&#x27;, &#x27;petrol&#x27;], dtype=object),\n",
       "                                                                            array([&#x27;automatic&#x27;, &#x27;manual&#x27;], dtype=object),\n",
       "                                                                            array([&#x27;Ajmer&#x27;, &#x27;Bangalore&#x27;, &#x27;Bhayandar&#x27;, &#x27;Delhi&#x27;, &#x27;Faridabad&#x27;,\n",
       "       &#x27;Ghaziabad&#x27;, &#x27;Greater Noida&#x27;, &#x27;Gurgaon&#x27;, &#x27;Hyderabad&#x27;, &#x27;Mira Road&#x27;,\n",
       "       &#x27;Mumbai&#x27;, &#x27;Noida&#x27;, &#x27;Thane&#x27;, &#x27;Virar&#x27;, &#x27;vasai&#x27;], dtype=object)]),\n",
       "                                                  [&#x27;make&#x27;, &#x27;model&#x27;, &#x27;variant&#x27;,\n",
       "                                                   &#x27;body_type&#x27;, &#x27;fuel_type&#x27;,\n",
       "                                                   &#x27;transmission&#x27;, &#x27;city&#x27;])])),\n",
       "                (&#x27;linearregression&#x27;, LinearRegression())])</pre><b>In a Jupyter environment, please rerun this cell to show the HTML representation or trust the notebook. <br />On GitHub, the HTML representation is unable to render, please try loading this page with nbviewer.org.</b></div><div class=\"sk-container\" hidden><div class=\"sk-item sk-dashed-wrapped\"><div class=\"sk-label-container\"><div class=\"sk-label sk-toggleable\"><input class=\"sk-toggleable__control sk-hidden--visually\" id=\"sk-estimator-id-2\" type=\"checkbox\" ><label for=\"sk-estimator-id-2\" class=\"sk-toggleable__label sk-toggleable__label-arrow\">Pipeline</label><div class=\"sk-toggleable__content\"><pre>Pipeline(steps=[(&#x27;columntransformer&#x27;,\n",
       "                 ColumnTransformer(remainder=&#x27;passthrough&#x27;,\n",
       "                                   transformers=[(&#x27;onehotencoder&#x27;,\n",
       "                                                  OneHotEncoder(categories=[array([&#x27;Aston Martin&#x27;, &#x27;Audi&#x27;, &#x27;BMW&#x27;, &#x27;Bentley&#x27;, &#x27;Chevrolet&#x27;, &#x27;Datsun&#x27;,\n",
       "       &#x27;Fiat&#x27;, &#x27;Ford&#x27;, &#x27;Hindustan Motors&#x27;, &#x27;Honda&#x27;, &#x27;Hyundai&#x27;, &#x27;Isuzu&#x27;,\n",
       "       &#x27;Jaguar&#x27;, &#x27;Jeep&#x27;, &#x27;Kia&#x27;, &#x27;Land Rover&#x27;, &#x27;Lexus&#x27;, &#x27;MG&#x27;, &#x27;MG Motors&#x27;,\n",
       "       &#x27;Mahindra&#x27;, &#x27;Mahindra Ssangyong&#x27;, &#x27;M...\n",
       "                                                                            array([&#x27;cng&#x27;, &#x27;diesel&#x27;, &#x27;electric&#x27;, &#x27;lpg&#x27;, &#x27;petrol&#x27;], dtype=object),\n",
       "                                                                            array([&#x27;automatic&#x27;, &#x27;manual&#x27;], dtype=object),\n",
       "                                                                            array([&#x27;Ajmer&#x27;, &#x27;Bangalore&#x27;, &#x27;Bhayandar&#x27;, &#x27;Delhi&#x27;, &#x27;Faridabad&#x27;,\n",
       "       &#x27;Ghaziabad&#x27;, &#x27;Greater Noida&#x27;, &#x27;Gurgaon&#x27;, &#x27;Hyderabad&#x27;, &#x27;Mira Road&#x27;,\n",
       "       &#x27;Mumbai&#x27;, &#x27;Noida&#x27;, &#x27;Thane&#x27;, &#x27;Virar&#x27;, &#x27;vasai&#x27;], dtype=object)]),\n",
       "                                                  [&#x27;make&#x27;, &#x27;model&#x27;, &#x27;variant&#x27;,\n",
       "                                                   &#x27;body_type&#x27;, &#x27;fuel_type&#x27;,\n",
       "                                                   &#x27;transmission&#x27;, &#x27;city&#x27;])])),\n",
       "                (&#x27;linearregression&#x27;, LinearRegression())])</pre></div></div></div><div class=\"sk-serial\"><div class=\"sk-item sk-dashed-wrapped\"><div class=\"sk-label-container\"><div class=\"sk-label sk-toggleable\"><input class=\"sk-toggleable__control sk-hidden--visually\" id=\"sk-estimator-id-3\" type=\"checkbox\" ><label for=\"sk-estimator-id-3\" class=\"sk-toggleable__label sk-toggleable__label-arrow\">columntransformer: ColumnTransformer</label><div class=\"sk-toggleable__content\"><pre>ColumnTransformer(remainder=&#x27;passthrough&#x27;,\n",
       "                  transformers=[(&#x27;onehotencoder&#x27;,\n",
       "                                 OneHotEncoder(categories=[array([&#x27;Aston Martin&#x27;, &#x27;Audi&#x27;, &#x27;BMW&#x27;, &#x27;Bentley&#x27;, &#x27;Chevrolet&#x27;, &#x27;Datsun&#x27;,\n",
       "       &#x27;Fiat&#x27;, &#x27;Ford&#x27;, &#x27;Hindustan Motors&#x27;, &#x27;Honda&#x27;, &#x27;Hyundai&#x27;, &#x27;Isuzu&#x27;,\n",
       "       &#x27;Jaguar&#x27;, &#x27;Jeep&#x27;, &#x27;Kia&#x27;, &#x27;Land Rover&#x27;, &#x27;Lexus&#x27;, &#x27;MG&#x27;, &#x27;MG Motors&#x27;,\n",
       "       &#x27;Mahindra&#x27;, &#x27;Mahindra Ssangyong&#x27;, &#x27;Maruti&#x27;, &#x27;Maserati&#x27;,\n",
       "       &#x27;Mercedes-Benz&#x27;, &#x27;Mi...\n",
       "                                                           array([&#x27;cng&#x27;, &#x27;diesel&#x27;, &#x27;electric&#x27;, &#x27;lpg&#x27;, &#x27;petrol&#x27;], dtype=object),\n",
       "                                                           array([&#x27;automatic&#x27;, &#x27;manual&#x27;], dtype=object),\n",
       "                                                           array([&#x27;Ajmer&#x27;, &#x27;Bangalore&#x27;, &#x27;Bhayandar&#x27;, &#x27;Delhi&#x27;, &#x27;Faridabad&#x27;,\n",
       "       &#x27;Ghaziabad&#x27;, &#x27;Greater Noida&#x27;, &#x27;Gurgaon&#x27;, &#x27;Hyderabad&#x27;, &#x27;Mira Road&#x27;,\n",
       "       &#x27;Mumbai&#x27;, &#x27;Noida&#x27;, &#x27;Thane&#x27;, &#x27;Virar&#x27;, &#x27;vasai&#x27;], dtype=object)]),\n",
       "                                 [&#x27;make&#x27;, &#x27;model&#x27;, &#x27;variant&#x27;, &#x27;body_type&#x27;,\n",
       "                                  &#x27;fuel_type&#x27;, &#x27;transmission&#x27;, &#x27;city&#x27;])])</pre></div></div></div><div class=\"sk-parallel\"><div class=\"sk-parallel-item\"><div class=\"sk-item\"><div class=\"sk-label-container\"><div class=\"sk-label sk-toggleable\"><input class=\"sk-toggleable__control sk-hidden--visually\" id=\"sk-estimator-id-4\" type=\"checkbox\" ><label for=\"sk-estimator-id-4\" class=\"sk-toggleable__label sk-toggleable__label-arrow\">onehotencoder</label><div class=\"sk-toggleable__content\"><pre>[&#x27;make&#x27;, &#x27;model&#x27;, &#x27;variant&#x27;, &#x27;body_type&#x27;, &#x27;fuel_type&#x27;, &#x27;transmission&#x27;, &#x27;city&#x27;]</pre></div></div></div><div class=\"sk-serial\"><div class=\"sk-item\"><div class=\"sk-estimator sk-toggleable\"><input class=\"sk-toggleable__control sk-hidden--visually\" id=\"sk-estimator-id-5\" type=\"checkbox\" ><label for=\"sk-estimator-id-5\" class=\"sk-toggleable__label sk-toggleable__label-arrow\">OneHotEncoder</label><div class=\"sk-toggleable__content\"><pre>OneHotEncoder(categories=[array([&#x27;Aston Martin&#x27;, &#x27;Audi&#x27;, &#x27;BMW&#x27;, &#x27;Bentley&#x27;, &#x27;Chevrolet&#x27;, &#x27;Datsun&#x27;,\n",
       "       &#x27;Fiat&#x27;, &#x27;Ford&#x27;, &#x27;Hindustan Motors&#x27;, &#x27;Honda&#x27;, &#x27;Hyundai&#x27;, &#x27;Isuzu&#x27;,\n",
       "       &#x27;Jaguar&#x27;, &#x27;Jeep&#x27;, &#x27;Kia&#x27;, &#x27;Land Rover&#x27;, &#x27;Lexus&#x27;, &#x27;MG&#x27;, &#x27;MG Motors&#x27;,\n",
       "       &#x27;Mahindra&#x27;, &#x27;Mahindra Ssangyong&#x27;, &#x27;Maruti&#x27;, &#x27;Maserati&#x27;,\n",
       "       &#x27;Mercedes-Benz&#x27;, &#x27;Mini&#x27;, &#x27;Mitsubishi&#x27;, &#x27;Nissan&#x27;, &#x27;Opel&#x27;, &#x27;Porsche&#x27;,\n",
       "       &#x27;Renault&#x27;, &#x27;Skoda&#x27;, &#x27;Tata&#x27;, &#x27;Toyo...\n",
       "       &#x27;luxury vehicles&#x27;, &#x27;minivans&#x27;, &#x27;muv&#x27;, &#x27;pickup trucks&#x27;, &#x27;sedan&#x27;,\n",
       "       &#x27;suv&#x27;, &#x27;wagon&#x27;], dtype=object),\n",
       "                          array([&#x27;cng&#x27;, &#x27;diesel&#x27;, &#x27;electric&#x27;, &#x27;lpg&#x27;, &#x27;petrol&#x27;], dtype=object),\n",
       "                          array([&#x27;automatic&#x27;, &#x27;manual&#x27;], dtype=object),\n",
       "                          array([&#x27;Ajmer&#x27;, &#x27;Bangalore&#x27;, &#x27;Bhayandar&#x27;, &#x27;Delhi&#x27;, &#x27;Faridabad&#x27;,\n",
       "       &#x27;Ghaziabad&#x27;, &#x27;Greater Noida&#x27;, &#x27;Gurgaon&#x27;, &#x27;Hyderabad&#x27;, &#x27;Mira Road&#x27;,\n",
       "       &#x27;Mumbai&#x27;, &#x27;Noida&#x27;, &#x27;Thane&#x27;, &#x27;Virar&#x27;, &#x27;vasai&#x27;], dtype=object)])</pre></div></div></div></div></div></div><div class=\"sk-parallel-item\"><div class=\"sk-item\"><div class=\"sk-label-container\"><div class=\"sk-label sk-toggleable\"><input class=\"sk-toggleable__control sk-hidden--visually\" id=\"sk-estimator-id-6\" type=\"checkbox\" ><label for=\"sk-estimator-id-6\" class=\"sk-toggleable__label sk-toggleable__label-arrow\">remainder</label><div class=\"sk-toggleable__content\"><pre>[&#x27;mileage&#x27;, &#x27;year&#x27;]</pre></div></div></div><div class=\"sk-serial\"><div class=\"sk-item\"><div class=\"sk-estimator sk-toggleable\"><input class=\"sk-toggleable__control sk-hidden--visually\" id=\"sk-estimator-id-7\" type=\"checkbox\" ><label for=\"sk-estimator-id-7\" class=\"sk-toggleable__label sk-toggleable__label-arrow\">passthrough</label><div class=\"sk-toggleable__content\"><pre>passthrough</pre></div></div></div></div></div></div></div></div><div class=\"sk-item\"><div class=\"sk-estimator sk-toggleable\"><input class=\"sk-toggleable__control sk-hidden--visually\" id=\"sk-estimator-id-8\" type=\"checkbox\" ><label for=\"sk-estimator-id-8\" class=\"sk-toggleable__label sk-toggleable__label-arrow\">LinearRegression</label><div class=\"sk-toggleable__content\"><pre>LinearRegression()</pre></div></div></div></div></div></div></div>"
      ],
      "text/plain": [
       "Pipeline(steps=[('columntransformer',\n",
       "                 ColumnTransformer(remainder='passthrough',\n",
       "                                   transformers=[('onehotencoder',\n",
       "                                                  OneHotEncoder(categories=[array(['Aston Martin', 'Audi', 'BMW', 'Bentley', 'Chevrolet', 'Datsun',\n",
       "       'Fiat', 'Ford', 'Hindustan Motors', 'Honda', 'Hyundai', 'Isuzu',\n",
       "       'Jaguar', 'Jeep', 'Kia', 'Land Rover', 'Lexus', 'MG', 'MG Motors',\n",
       "       'Mahindra', 'Mahindra Ssangyong', 'M...\n",
       "                                                                            array(['cng', 'diesel', 'electric', 'lpg', 'petrol'], dtype=object),\n",
       "                                                                            array(['automatic', 'manual'], dtype=object),\n",
       "                                                                            array(['Ajmer', 'Bangalore', 'Bhayandar', 'Delhi', 'Faridabad',\n",
       "       'Ghaziabad', 'Greater Noida', 'Gurgaon', 'Hyderabad', 'Mira Road',\n",
       "       'Mumbai', 'Noida', 'Thane', 'Virar', 'vasai'], dtype=object)]),\n",
       "                                                  ['make', 'model', 'variant',\n",
       "                                                   'body_type', 'fuel_type',\n",
       "                                                   'transmission', 'city'])])),\n",
       "                ('linearregression', LinearRegression())])"
      ]
     },
     "execution_count": 273,
     "metadata": {},
     "output_type": "execute_result"
    }
   ],
   "source": [
    "pipe.fit(X_train,y_train)"
   ]
  },
  {
   "cell_type": "markdown",
   "id": "bf43a68c",
   "metadata": {},
   "source": [
    "y_pred=pipe.predict(X_test)"
   ]
  },
  {
   "cell_type": "code",
   "execution_count": 275,
   "id": "e48c92cc",
   "metadata": {},
   "outputs": [],
   "source": [
    "y_pred=pipe.predict(X_test)"
   ]
  },
  {
   "cell_type": "markdown",
   "id": "6ee7dd65",
   "metadata": {},
   "source": [
    "# checking r2score"
   ]
  },
  {
   "cell_type": "code",
   "execution_count": 276,
   "id": "a19c4340",
   "metadata": {},
   "outputs": [
    {
     "data": {
      "text/plain": [
       "0.8549607653346403"
      ]
     },
     "execution_count": 276,
     "metadata": {},
     "output_type": "execute_result"
    }
   ],
   "source": [
    "r2_score(y_test,y_pred)"
   ]
  },
  {
   "cell_type": "code",
   "execution_count": 277,
   "id": "dd5c6a31",
   "metadata": {},
   "outputs": [],
   "source": [
    "scores=[]\n",
    "for i in range(1000):\n",
    "    X_train,X_test,y_train,y_test=train_test_split(X,y,test_size=0.1,random_state=i)\n",
    "    lr=LinearRegression()\n",
    "    pipe=make_pipeline(column_trans,lr)\n",
    "    pipe.fit(X_train,y_train)\n",
    "    y_pred=pipe.predict(X_test)\n",
    "    scores.append(r2_score(y_test,y_pred))"
   ]
  },
  {
   "cell_type": "code",
   "execution_count": 279,
   "id": "219ace8a",
   "metadata": {},
   "outputs": [
    {
     "data": {
      "text/plain": [
       "299"
      ]
     },
     "execution_count": 279,
     "metadata": {},
     "output_type": "execute_result"
    }
   ],
   "source": [
    "import numpy as np\n",
    "np.argmax(scores)"
   ]
  },
  {
   "cell_type": "code",
   "execution_count": 280,
   "id": "e78368bc",
   "metadata": {},
   "outputs": [
    {
     "data": {
      "text/plain": [
       "0.9488647875044786"
      ]
     },
     "execution_count": 280,
     "metadata": {},
     "output_type": "execute_result"
    }
   ],
   "source": [
    "scores[np.argmax(scores)]"
   ]
  },
  {
   "cell_type": "markdown",
   "id": "5976a2ac",
   "metadata": {},
   "source": [
    "# predicting samples"
   ]
  },
  {
   "cell_type": "code",
   "execution_count": 293,
   "id": "325779db",
   "metadata": {},
   "outputs": [
    {
     "data": {
      "text/plain": [
       "array([749017.10900068])"
      ]
     },
     "execution_count": 293,
     "metadata": {},
     "output_type": "execute_result"
    }
   ],
   "source": [
    "pipe.predict(pd.DataFrame(columns=X_test.columns,data=np.array(['Hyundai','i20','Sportz 1.2','hatchback',40000,'petrol','manual',2018,'Mumbai']).reshape(1, 9)))"
   ]
  },
  {
   "cell_type": "code",
   "execution_count": 301,
   "id": "26b2fa2b",
   "metadata": {},
   "outputs": [
    {
     "data": {
      "text/plain": [
       "array([509210.88270169])"
      ]
     },
     "execution_count": 301,
     "metadata": {},
     "output_type": "execute_result"
    }
   ],
   "source": [
    "pipe.predict(pd.DataFrame(columns=X_test.columns,\n",
    "                          data=np.array(['Maruti','S-Cross','Delta 1.3','suv',70000,'diesel','manual',2015,'Hyderabad']).reshape(1, 9)))"
   ]
  },
  {
   "cell_type": "markdown",
   "id": "79cfd502",
   "metadata": {},
   "source": [
    "# best model is found at a certain random state"
   ]
  },
  {
   "cell_type": "code",
   "execution_count": 295,
   "id": "efa161da",
   "metadata": {},
   "outputs": [
    {
     "data": {
      "text/plain": [
       "0.9488647875044786"
      ]
     },
     "execution_count": 295,
     "metadata": {},
     "output_type": "execute_result"
    }
   ],
   "source": [
    "X_train,X_test,y_train,y_test=train_test_split(X,y,test_size=0.1,random_state=np.argmax(scores))\n",
    "lr=LinearRegression()\n",
    "pipe=make_pipeline(column_trans,lr)\n",
    "pipe.fit(X_train,y_train)\n",
    "y_pred=pipe.predict(X_test)\n",
    "r2_score(y_test,y_pred)"
   ]
  },
  {
   "cell_type": "code",
   "execution_count": 304,
   "id": "8e0e71d6",
   "metadata": {},
   "outputs": [],
   "source": [
    "import pickle "
   ]
  },
  {
   "cell_type": "code",
   "execution_count": null,
   "id": "6966ea80",
   "metadata": {},
   "outputs": [],
   "source": [
    "pickle.dump('Linear')"
   ]
  }
 ],
 "metadata": {
  "kernelspec": {
   "display_name": "Python 3 (ipykernel)",
   "language": "python",
   "name": "python3"
  },
  "language_info": {
   "codemirror_mode": {
    "name": "ipython",
    "version": 3
   },
   "file_extension": ".py",
   "mimetype": "text/x-python",
   "name": "python",
   "nbconvert_exporter": "python",
   "pygments_lexer": "ipython3",
   "version": "3.9.7"
  }
 },
 "nbformat": 4,
 "nbformat_minor": 5
}
